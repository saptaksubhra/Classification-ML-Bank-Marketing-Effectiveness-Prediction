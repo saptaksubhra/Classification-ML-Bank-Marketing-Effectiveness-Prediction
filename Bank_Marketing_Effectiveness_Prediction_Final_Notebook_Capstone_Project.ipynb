{
  "nbformat": 4,
  "nbformat_minor": 0,
  "metadata": {
    "kernelspec": {
      "display_name": "Python 3",
      "language": "python",
      "name": "python3"
    },
    "language_info": {
      "codemirror_mode": {
        "name": "ipython",
        "version": 3
      },
      "file_extension": ".py",
      "mimetype": "text/x-python",
      "name": "python",
      "nbconvert_exporter": "python",
      "pygments_lexer": "ipython3",
      "version": "3.6.6"
    },
    "colab": {
      "provenance": [],
      "include_colab_link": true
    }
  },
  "cells": [
    {
      "cell_type": "markdown",
      "metadata": {
        "id": "view-in-github",
        "colab_type": "text"
      },
      "source": [
        "<a href=\"https://colab.research.google.com/github/saptaksubhra/Classification-ML-Bank-Marketing-Effectiveness-Prediction/blob/main/Bank_Marketing_Effectiveness_Prediction_Final_Notebook_Capstone_Project.ipynb\" target=\"_parent\"><img src=\"https://colab.research.google.com/assets/colab-badge.svg\" alt=\"Open In Colab\"/></a>"
      ]
    },
    {
      "cell_type": "markdown",
      "metadata": {
        "id": "tOGC-qoyhJeX"
      },
      "source": [
        "# <b><u> Project Title : Predicting The Effectiveness of Bank Marketing Campaigns </u></b>\n",
        "\n",
        "# Project Type: Classification Machine Learning Project\n",
        "\n",
        "# Contribution: Individual\n",
        "\n",
        "# Name: Saptaksubhra Bhattacharyya"
      ]
    },
    {
      "cell_type": "markdown",
      "metadata": {
        "id": "Y06xIdG26kRF"
      },
      "source": [
        "## <b> Problem Description </b>\n",
        "\n",
        "### The data is related with direct marketing campaigns (phone calls) of a Portuguese banking institution. The marketing campaigns were based on phone calls. Often, more than one contact to the same client was required, in order to access if the product (bank term deposit) would be ('yes') or not ('no') subscribed. The classification goal is to predict if the client will subscribe a term deposit (variable y).\n"
      ]
    },
    {
      "cell_type": "markdown",
      "metadata": {
        "id": "AlLxAtlziMbP"
      },
      "source": [
        "## <b> Data Description </b>\n",
        "\n",
        "## <b>Input variables: </b>\n",
        "### <b> Bank Client data: </b>\n",
        "\n",
        "* ### age (numeric)\n",
        "* ### job : type of job (categorical: 'admin.','blue-collar','entrepreneur','housemaid','management','retired','self-employed','services','student','technician','unemployed','unknown')\n",
        "* ### marital : marital status (categorical: 'divorced','married','single','unknown'; note: 'divorced' means divorced or widowed)\n",
        "* ### education (categorical: 'basic.4y','basic.6y','basic.9y','high.school','illiterate','professional.course','university.degree','unknown')\n",
        "* ### default: has credit in default? (categorical: 'no','yes','unknown')\n",
        "* ### housing: has housing loan? (categorical: 'no','yes','unknown')\n",
        "* ### loan: has personal loan? (categorical: 'no','yes','unknown')\n",
        "\n",
        "### <b> Related with the last contact of the current campaign:</b>\n",
        "* ### contact: contact communication type (categorical: 'cellular','telephone')\n",
        "* ### month: last contact month of year (categorical: 'jan', 'feb', 'mar', ..., 'nov', 'dec')\n",
        "* ### day_of_week: last contact day of the week (categorical: 'mon','tue','wed','thu','fri')\n",
        "* ### duration: last contact duration, in seconds (numeric). Important note: this attribute highly affects the output target (e.g., if duration=0 then y='no'). Yet, the duration is not known before a call is performed. Also, after the end of the call y is obviously known. Thus, this input should only be included for benchmark purposes and should be discarded if the intention is to have a realistic predictive model.\n",
        "\n",
        "### <b>Other attributes: </b>\n",
        "* ### campaign: number of contacts performed during this campaign and for this client (numeric, includes last contact)\n",
        "* ### pdays: number of days that passed by after the client was last contacted from a previous campaign (numeric; 999 means client was not previously contacted)\n",
        "* ### previous: number of contacts performed before this campaign and for this client (numeric)\n",
        "* ### poutcome: outcome of the previous marketing campaign (categorical: 'failure','nonexistent','success')\n",
        "\n",
        "\n",
        "### <b>Output variable (desired target):</b>\n",
        "* ### y - has the client subscribed a term deposit? (binary: 'yes','no')"
      ]
    },
    {
      "cell_type": "markdown",
      "source": [
        "# Main Objective: Increase The Effectiveness of The Bank's Telemarketing Campaign\n",
        "\n",
        "This project will enable the bank to develop a more granular understanding of its customer base, predict customers' response to its telemarketing campaign and establish a target customer profile for future marketing plans.\n",
        "\n",
        "By analyzing customer features, such as demographics and transaction history, the bank will be able to predict customer saving behaviours and identify which type of customers is more likely to make term deposits. The bank can then focus its marketing efforts on those customers. This will not only allow the bank to secure deposits more effectively but also increase customer satisfaction by reducing undesirable advertisements for certain customers."
      ],
      "metadata": {
        "id": "Gt70ygETeGpR"
      }
    },
    {
      "cell_type": "markdown",
      "source": [
        "# **Table of Contents**\n",
        "\n",
        "1.Importing Necessary Libraries at the outset\n",
        "\n",
        "2.Data Prepartion\n",
        "\n",
        "* 2.1 Loading Dataset\n",
        "\n",
        "3.Data Visualization\n",
        "\n",
        "4.Correlation Matrix of Numerical Features\n",
        "\n",
        "5.Conversion of Categorical Variables into Numerical\n",
        "\n",
        "6.Implementation of Label Encoder ( OneHotEncoding )\n",
        "\n",
        "7.Detection of Outliers\n",
        "\n",
        "8.The Separation of Independent and Dependent Variable\n",
        "\n",
        "9.Handling Imbalanced Dataset\n",
        "\n",
        "* 9.1 Random Over-Sampling Technique\n",
        "\n",
        "* 9.2 SMOTETomek Technique\n",
        "\n",
        "* 9.3 Under Sampling Technique\n",
        "\n",
        "10.Application of Different Classification Algorithms\n",
        "\n",
        "* 10.1 Logistic Regression\n",
        "\n",
        "* 10.2 Random Forest\n",
        "\n",
        "* 10.3 K Nearest Neighbors\n",
        "\n",
        "* 10.4  Decision Tree\n",
        "\n",
        "* 10.5 SVM( Support Vector Machine)\n",
        "\n",
        "* 10.6 Naive Bayes\n",
        "\n",
        "* 10.7 XGBoost\n",
        "\n",
        "11.Conclusion"
      ],
      "metadata": {
        "id": "QIjatiwtNzhd"
      }
    },
    {
      "cell_type": "markdown",
      "source": [
        "# Approaches for The Classification Problem"
      ],
      "metadata": {
        "id": "gFV-QY2riRzf"
      }
    },
    {
      "cell_type": "markdown",
      "source": [
        "# 1. Importing Necessary Libraries at the outset"
      ],
      "metadata": {
        "id": "f6jbVjXtdM4K"
      }
    },
    {
      "cell_type": "markdown",
      "source": [
        "Let's include the troop of soldiers first to embattle this war."
      ],
      "metadata": {
        "id": "LmcM-SnSRl-J"
      }
    },
    {
      "cell_type": "code",
      "metadata": {
        "id": "dByMsuzT8Tnw"
      },
      "source": [
        "# Importing Required libraries at the outset\n",
        "\n",
        "import numpy as np\n",
        "import pandas as pd\n",
        "import matplotlib.pyplot as plt\n",
        "%matplotlib inline\n",
        "import seaborn as sns"
      ],
      "execution_count": 1,
      "outputs": []
    },
    {
      "cell_type": "markdown",
      "source": [
        "# 2. Data Prepartion:\n",
        "\n",
        "# 2.1 Loading Dataset"
      ],
      "metadata": {
        "id": "QdDNknEzSelR"
      }
    },
    {
      "cell_type": "code",
      "source": [
        "# Mounting Google Drive to have access to the dataset of the Portuguese banking institution\n",
        "\n",
        "from google.colab import drive\n",
        "drive.mount('/content/drive')"
      ],
      "metadata": {
        "colab": {
          "base_uri": "https://localhost:8080/"
        },
        "id": "2rkhzZinSJnL",
        "outputId": "bb17a2c1-bc13-4574-907e-a01158776107"
      },
      "execution_count": 2,
      "outputs": [
        {
          "output_type": "stream",
          "name": "stdout",
          "text": [
            "Mounted at /content/drive\n"
          ]
        }
      ]
    },
    {
      "cell_type": "code",
      "source": [
        "# Loading the dataset of the Portuguese banking institution\n",
        "\n",
        "df_PortugueseBank = pd.read_csv('/content/drive/MyDrive/Almabetter Capstone Projects-Saptaksubhra Bhattacharyya/Classification ML Project-Bank Marketing Effectiveness Prediction-Saptaksubhra Bhattacharyya/bank-full.csv', sep = ';')"
      ],
      "metadata": {
        "id": "hYdEx8FPTQxZ"
      },
      "execution_count": 3,
      "outputs": []
    },
    {
      "cell_type": "code",
      "source": [
        "# Bank dataset\n",
        "df_PortugueseBank"
      ],
      "metadata": {
        "colab": {
          "base_uri": "https://localhost:8080/",
          "height": 423
        },
        "id": "9Th2WOt4TyuF",
        "outputId": "6e863e1c-bf80-4318-90e2-9438d833dfee"
      },
      "execution_count": 4,
      "outputs": [
        {
          "output_type": "execute_result",
          "data": {
            "text/plain": [
              "       age           job   marital  education default  balance housing loan  \\\n",
              "0       58    management   married   tertiary      no     2143     yes   no   \n",
              "1       44    technician    single  secondary      no       29     yes   no   \n",
              "2       33  entrepreneur   married  secondary      no        2     yes  yes   \n",
              "3       47   blue-collar   married    unknown      no     1506     yes   no   \n",
              "4       33       unknown    single    unknown      no        1      no   no   \n",
              "...    ...           ...       ...        ...     ...      ...     ...  ...   \n",
              "45206   51    technician   married   tertiary      no      825      no   no   \n",
              "45207   71       retired  divorced    primary      no     1729      no   no   \n",
              "45208   72       retired   married  secondary      no     5715      no   no   \n",
              "45209   57   blue-collar   married  secondary      no      668      no   no   \n",
              "45210   37  entrepreneur   married  secondary      no     2971      no   no   \n",
              "\n",
              "         contact  day month  duration  campaign  pdays  previous poutcome    y  \n",
              "0        unknown    5   may       261         1     -1         0  unknown   no  \n",
              "1        unknown    5   may       151         1     -1         0  unknown   no  \n",
              "2        unknown    5   may        76         1     -1         0  unknown   no  \n",
              "3        unknown    5   may        92         1     -1         0  unknown   no  \n",
              "4        unknown    5   may       198         1     -1         0  unknown   no  \n",
              "...          ...  ...   ...       ...       ...    ...       ...      ...  ...  \n",
              "45206   cellular   17   nov       977         3     -1         0  unknown  yes  \n",
              "45207   cellular   17   nov       456         2     -1         0  unknown  yes  \n",
              "45208   cellular   17   nov      1127         5    184         3  success  yes  \n",
              "45209  telephone   17   nov       508         4     -1         0  unknown   no  \n",
              "45210   cellular   17   nov       361         2    188        11    other   no  \n",
              "\n",
              "[45211 rows x 17 columns]"
            ],
            "text/html": [
              "\n",
              "  <div id=\"df-2841683d-7180-42f4-b7df-fc90755e722b\">\n",
              "    <div class=\"colab-df-container\">\n",
              "      <div>\n",
              "<style scoped>\n",
              "    .dataframe tbody tr th:only-of-type {\n",
              "        vertical-align: middle;\n",
              "    }\n",
              "\n",
              "    .dataframe tbody tr th {\n",
              "        vertical-align: top;\n",
              "    }\n",
              "\n",
              "    .dataframe thead th {\n",
              "        text-align: right;\n",
              "    }\n",
              "</style>\n",
              "<table border=\"1\" class=\"dataframe\">\n",
              "  <thead>\n",
              "    <tr style=\"text-align: right;\">\n",
              "      <th></th>\n",
              "      <th>age</th>\n",
              "      <th>job</th>\n",
              "      <th>marital</th>\n",
              "      <th>education</th>\n",
              "      <th>default</th>\n",
              "      <th>balance</th>\n",
              "      <th>housing</th>\n",
              "      <th>loan</th>\n",
              "      <th>contact</th>\n",
              "      <th>day</th>\n",
              "      <th>month</th>\n",
              "      <th>duration</th>\n",
              "      <th>campaign</th>\n",
              "      <th>pdays</th>\n",
              "      <th>previous</th>\n",
              "      <th>poutcome</th>\n",
              "      <th>y</th>\n",
              "    </tr>\n",
              "  </thead>\n",
              "  <tbody>\n",
              "    <tr>\n",
              "      <th>0</th>\n",
              "      <td>58</td>\n",
              "      <td>management</td>\n",
              "      <td>married</td>\n",
              "      <td>tertiary</td>\n",
              "      <td>no</td>\n",
              "      <td>2143</td>\n",
              "      <td>yes</td>\n",
              "      <td>no</td>\n",
              "      <td>unknown</td>\n",
              "      <td>5</td>\n",
              "      <td>may</td>\n",
              "      <td>261</td>\n",
              "      <td>1</td>\n",
              "      <td>-1</td>\n",
              "      <td>0</td>\n",
              "      <td>unknown</td>\n",
              "      <td>no</td>\n",
              "    </tr>\n",
              "    <tr>\n",
              "      <th>1</th>\n",
              "      <td>44</td>\n",
              "      <td>technician</td>\n",
              "      <td>single</td>\n",
              "      <td>secondary</td>\n",
              "      <td>no</td>\n",
              "      <td>29</td>\n",
              "      <td>yes</td>\n",
              "      <td>no</td>\n",
              "      <td>unknown</td>\n",
              "      <td>5</td>\n",
              "      <td>may</td>\n",
              "      <td>151</td>\n",
              "      <td>1</td>\n",
              "      <td>-1</td>\n",
              "      <td>0</td>\n",
              "      <td>unknown</td>\n",
              "      <td>no</td>\n",
              "    </tr>\n",
              "    <tr>\n",
              "      <th>2</th>\n",
              "      <td>33</td>\n",
              "      <td>entrepreneur</td>\n",
              "      <td>married</td>\n",
              "      <td>secondary</td>\n",
              "      <td>no</td>\n",
              "      <td>2</td>\n",
              "      <td>yes</td>\n",
              "      <td>yes</td>\n",
              "      <td>unknown</td>\n",
              "      <td>5</td>\n",
              "      <td>may</td>\n",
              "      <td>76</td>\n",
              "      <td>1</td>\n",
              "      <td>-1</td>\n",
              "      <td>0</td>\n",
              "      <td>unknown</td>\n",
              "      <td>no</td>\n",
              "    </tr>\n",
              "    <tr>\n",
              "      <th>3</th>\n",
              "      <td>47</td>\n",
              "      <td>blue-collar</td>\n",
              "      <td>married</td>\n",
              "      <td>unknown</td>\n",
              "      <td>no</td>\n",
              "      <td>1506</td>\n",
              "      <td>yes</td>\n",
              "      <td>no</td>\n",
              "      <td>unknown</td>\n",
              "      <td>5</td>\n",
              "      <td>may</td>\n",
              "      <td>92</td>\n",
              "      <td>1</td>\n",
              "      <td>-1</td>\n",
              "      <td>0</td>\n",
              "      <td>unknown</td>\n",
              "      <td>no</td>\n",
              "    </tr>\n",
              "    <tr>\n",
              "      <th>4</th>\n",
              "      <td>33</td>\n",
              "      <td>unknown</td>\n",
              "      <td>single</td>\n",
              "      <td>unknown</td>\n",
              "      <td>no</td>\n",
              "      <td>1</td>\n",
              "      <td>no</td>\n",
              "      <td>no</td>\n",
              "      <td>unknown</td>\n",
              "      <td>5</td>\n",
              "      <td>may</td>\n",
              "      <td>198</td>\n",
              "      <td>1</td>\n",
              "      <td>-1</td>\n",
              "      <td>0</td>\n",
              "      <td>unknown</td>\n",
              "      <td>no</td>\n",
              "    </tr>\n",
              "    <tr>\n",
              "      <th>...</th>\n",
              "      <td>...</td>\n",
              "      <td>...</td>\n",
              "      <td>...</td>\n",
              "      <td>...</td>\n",
              "      <td>...</td>\n",
              "      <td>...</td>\n",
              "      <td>...</td>\n",
              "      <td>...</td>\n",
              "      <td>...</td>\n",
              "      <td>...</td>\n",
              "      <td>...</td>\n",
              "      <td>...</td>\n",
              "      <td>...</td>\n",
              "      <td>...</td>\n",
              "      <td>...</td>\n",
              "      <td>...</td>\n",
              "      <td>...</td>\n",
              "    </tr>\n",
              "    <tr>\n",
              "      <th>45206</th>\n",
              "      <td>51</td>\n",
              "      <td>technician</td>\n",
              "      <td>married</td>\n",
              "      <td>tertiary</td>\n",
              "      <td>no</td>\n",
              "      <td>825</td>\n",
              "      <td>no</td>\n",
              "      <td>no</td>\n",
              "      <td>cellular</td>\n",
              "      <td>17</td>\n",
              "      <td>nov</td>\n",
              "      <td>977</td>\n",
              "      <td>3</td>\n",
              "      <td>-1</td>\n",
              "      <td>0</td>\n",
              "      <td>unknown</td>\n",
              "      <td>yes</td>\n",
              "    </tr>\n",
              "    <tr>\n",
              "      <th>45207</th>\n",
              "      <td>71</td>\n",
              "      <td>retired</td>\n",
              "      <td>divorced</td>\n",
              "      <td>primary</td>\n",
              "      <td>no</td>\n",
              "      <td>1729</td>\n",
              "      <td>no</td>\n",
              "      <td>no</td>\n",
              "      <td>cellular</td>\n",
              "      <td>17</td>\n",
              "      <td>nov</td>\n",
              "      <td>456</td>\n",
              "      <td>2</td>\n",
              "      <td>-1</td>\n",
              "      <td>0</td>\n",
              "      <td>unknown</td>\n",
              "      <td>yes</td>\n",
              "    </tr>\n",
              "    <tr>\n",
              "      <th>45208</th>\n",
              "      <td>72</td>\n",
              "      <td>retired</td>\n",
              "      <td>married</td>\n",
              "      <td>secondary</td>\n",
              "      <td>no</td>\n",
              "      <td>5715</td>\n",
              "      <td>no</td>\n",
              "      <td>no</td>\n",
              "      <td>cellular</td>\n",
              "      <td>17</td>\n",
              "      <td>nov</td>\n",
              "      <td>1127</td>\n",
              "      <td>5</td>\n",
              "      <td>184</td>\n",
              "      <td>3</td>\n",
              "      <td>success</td>\n",
              "      <td>yes</td>\n",
              "    </tr>\n",
              "    <tr>\n",
              "      <th>45209</th>\n",
              "      <td>57</td>\n",
              "      <td>blue-collar</td>\n",
              "      <td>married</td>\n",
              "      <td>secondary</td>\n",
              "      <td>no</td>\n",
              "      <td>668</td>\n",
              "      <td>no</td>\n",
              "      <td>no</td>\n",
              "      <td>telephone</td>\n",
              "      <td>17</td>\n",
              "      <td>nov</td>\n",
              "      <td>508</td>\n",
              "      <td>4</td>\n",
              "      <td>-1</td>\n",
              "      <td>0</td>\n",
              "      <td>unknown</td>\n",
              "      <td>no</td>\n",
              "    </tr>\n",
              "    <tr>\n",
              "      <th>45210</th>\n",
              "      <td>37</td>\n",
              "      <td>entrepreneur</td>\n",
              "      <td>married</td>\n",
              "      <td>secondary</td>\n",
              "      <td>no</td>\n",
              "      <td>2971</td>\n",
              "      <td>no</td>\n",
              "      <td>no</td>\n",
              "      <td>cellular</td>\n",
              "      <td>17</td>\n",
              "      <td>nov</td>\n",
              "      <td>361</td>\n",
              "      <td>2</td>\n",
              "      <td>188</td>\n",
              "      <td>11</td>\n",
              "      <td>other</td>\n",
              "      <td>no</td>\n",
              "    </tr>\n",
              "  </tbody>\n",
              "</table>\n",
              "<p>45211 rows × 17 columns</p>\n",
              "</div>\n",
              "      <button class=\"colab-df-convert\" onclick=\"convertToInteractive('df-2841683d-7180-42f4-b7df-fc90755e722b')\"\n",
              "              title=\"Convert this dataframe to an interactive table.\"\n",
              "              style=\"display:none;\">\n",
              "        \n",
              "  <svg xmlns=\"http://www.w3.org/2000/svg\" height=\"24px\"viewBox=\"0 0 24 24\"\n",
              "       width=\"24px\">\n",
              "    <path d=\"M0 0h24v24H0V0z\" fill=\"none\"/>\n",
              "    <path d=\"M18.56 5.44l.94 2.06.94-2.06 2.06-.94-2.06-.94-.94-2.06-.94 2.06-2.06.94zm-11 1L8.5 8.5l.94-2.06 2.06-.94-2.06-.94L8.5 2.5l-.94 2.06-2.06.94zm10 10l.94 2.06.94-2.06 2.06-.94-2.06-.94-.94-2.06-.94 2.06-2.06.94z\"/><path d=\"M17.41 7.96l-1.37-1.37c-.4-.4-.92-.59-1.43-.59-.52 0-1.04.2-1.43.59L10.3 9.45l-7.72 7.72c-.78.78-.78 2.05 0 2.83L4 21.41c.39.39.9.59 1.41.59.51 0 1.02-.2 1.41-.59l7.78-7.78 2.81-2.81c.8-.78.8-2.07 0-2.86zM5.41 20L4 18.59l7.72-7.72 1.47 1.35L5.41 20z\"/>\n",
              "  </svg>\n",
              "      </button>\n",
              "      \n",
              "  <style>\n",
              "    .colab-df-container {\n",
              "      display:flex;\n",
              "      flex-wrap:wrap;\n",
              "      gap: 12px;\n",
              "    }\n",
              "\n",
              "    .colab-df-convert {\n",
              "      background-color: #E8F0FE;\n",
              "      border: none;\n",
              "      border-radius: 50%;\n",
              "      cursor: pointer;\n",
              "      display: none;\n",
              "      fill: #1967D2;\n",
              "      height: 32px;\n",
              "      padding: 0 0 0 0;\n",
              "      width: 32px;\n",
              "    }\n",
              "\n",
              "    .colab-df-convert:hover {\n",
              "      background-color: #E2EBFA;\n",
              "      box-shadow: 0px 1px 2px rgba(60, 64, 67, 0.3), 0px 1px 3px 1px rgba(60, 64, 67, 0.15);\n",
              "      fill: #174EA6;\n",
              "    }\n",
              "\n",
              "    [theme=dark] .colab-df-convert {\n",
              "      background-color: #3B4455;\n",
              "      fill: #D2E3FC;\n",
              "    }\n",
              "\n",
              "    [theme=dark] .colab-df-convert:hover {\n",
              "      background-color: #434B5C;\n",
              "      box-shadow: 0px 1px 3px 1px rgba(0, 0, 0, 0.15);\n",
              "      filter: drop-shadow(0px 1px 2px rgba(0, 0, 0, 0.3));\n",
              "      fill: #FFFFFF;\n",
              "    }\n",
              "  </style>\n",
              "\n",
              "      <script>\n",
              "        const buttonEl =\n",
              "          document.querySelector('#df-2841683d-7180-42f4-b7df-fc90755e722b button.colab-df-convert');\n",
              "        buttonEl.style.display =\n",
              "          google.colab.kernel.accessAllowed ? 'block' : 'none';\n",
              "\n",
              "        async function convertToInteractive(key) {\n",
              "          const element = document.querySelector('#df-2841683d-7180-42f4-b7df-fc90755e722b');\n",
              "          const dataTable =\n",
              "            await google.colab.kernel.invokeFunction('convertToInteractive',\n",
              "                                                     [key], {});\n",
              "          if (!dataTable) return;\n",
              "\n",
              "          const docLinkHtml = 'Like what you see? Visit the ' +\n",
              "            '<a target=\"_blank\" href=https://colab.research.google.com/notebooks/data_table.ipynb>data table notebook</a>'\n",
              "            + ' to learn more about interactive tables.';\n",
              "          element.innerHTML = '';\n",
              "          dataTable['output_type'] = 'display_data';\n",
              "          await google.colab.output.renderOutput(dataTable, element);\n",
              "          const docLink = document.createElement('div');\n",
              "          docLink.innerHTML = docLinkHtml;\n",
              "          element.appendChild(docLink);\n",
              "        }\n",
              "      </script>\n",
              "    </div>\n",
              "  </div>\n",
              "  "
            ]
          },
          "metadata": {},
          "execution_count": 4
        }
      ]
    },
    {
      "cell_type": "code",
      "source": [
        "# Let's see number of rows and number of columns in the dataset.\n",
        "\n",
        "df_PortugueseBank.shape\n"
      ],
      "metadata": {
        "id": "jP7zRskUT4s8",
        "colab": {
          "base_uri": "https://localhost:8080/"
        },
        "outputId": "d61b05be-f780-419c-f032-5428ef6be4ae"
      },
      "execution_count": 5,
      "outputs": [
        {
          "output_type": "execute_result",
          "data": {
            "text/plain": [
              "(45211, 17)"
            ]
          },
          "metadata": {},
          "execution_count": 5
        }
      ]
    },
    {
      "cell_type": "code",
      "source": [
        "# The whole of the dataset or general information of the dataset.\n",
        "\n",
        "df_PortugueseBank.info()"
      ],
      "metadata": {
        "colab": {
          "base_uri": "https://localhost:8080/"
        },
        "id": "ooMsRw12BWZj",
        "outputId": "469ec99c-0d5e-4dfe-c158-32cf19a80901"
      },
      "execution_count": 6,
      "outputs": [
        {
          "output_type": "stream",
          "name": "stdout",
          "text": [
            "<class 'pandas.core.frame.DataFrame'>\n",
            "RangeIndex: 45211 entries, 0 to 45210\n",
            "Data columns (total 17 columns):\n",
            " #   Column     Non-Null Count  Dtype \n",
            "---  ------     --------------  ----- \n",
            " 0   age        45211 non-null  int64 \n",
            " 1   job        45211 non-null  object\n",
            " 2   marital    45211 non-null  object\n",
            " 3   education  45211 non-null  object\n",
            " 4   default    45211 non-null  object\n",
            " 5   balance    45211 non-null  int64 \n",
            " 6   housing    45211 non-null  object\n",
            " 7   loan       45211 non-null  object\n",
            " 8   contact    45211 non-null  object\n",
            " 9   day        45211 non-null  int64 \n",
            " 10  month      45211 non-null  object\n",
            " 11  duration   45211 non-null  int64 \n",
            " 12  campaign   45211 non-null  int64 \n",
            " 13  pdays      45211 non-null  int64 \n",
            " 14  previous   45211 non-null  int64 \n",
            " 15  poutcome   45211 non-null  object\n",
            " 16  y          45211 non-null  object\n",
            "dtypes: int64(7), object(10)\n",
            "memory usage: 5.9+ MB\n"
          ]
        }
      ]
    },
    {
      "cell_type": "markdown",
      "source": [
        "# Observations:\n",
        "\n",
        "It is evident from the above dataset's information that\n",
        "\n",
        "* there is no null value in the dataset\n",
        "* ten columns are categorical and \n",
        "* seven columns are numerical"
      ],
      "metadata": {
        "id": "AHmcYW3tegqW"
      }
    },
    {
      "cell_type": "code",
      "source": [
        "# Let's have a look at the Statistical description of the dataset.\n",
        "\n",
        "df_PortugueseBank.describe()"
      ],
      "metadata": {
        "colab": {
          "base_uri": "https://localhost:8080/",
          "height": 300
        },
        "id": "RdDrkzOaB85x",
        "outputId": "9add9f90-f2b7-4832-cb94-4fb3adf395ca"
      },
      "execution_count": 7,
      "outputs": [
        {
          "output_type": "execute_result",
          "data": {
            "text/plain": [
              "                age        balance           day      duration      campaign  \\\n",
              "count  45211.000000   45211.000000  45211.000000  45211.000000  45211.000000   \n",
              "mean      40.936210    1362.272058     15.806419    258.163080      2.763841   \n",
              "std       10.618762    3044.765829      8.322476    257.527812      3.098021   \n",
              "min       18.000000   -8019.000000      1.000000      0.000000      1.000000   \n",
              "25%       33.000000      72.000000      8.000000    103.000000      1.000000   \n",
              "50%       39.000000     448.000000     16.000000    180.000000      2.000000   \n",
              "75%       48.000000    1428.000000     21.000000    319.000000      3.000000   \n",
              "max       95.000000  102127.000000     31.000000   4918.000000     63.000000   \n",
              "\n",
              "              pdays      previous  \n",
              "count  45211.000000  45211.000000  \n",
              "mean      40.197828      0.580323  \n",
              "std      100.128746      2.303441  \n",
              "min       -1.000000      0.000000  \n",
              "25%       -1.000000      0.000000  \n",
              "50%       -1.000000      0.000000  \n",
              "75%       -1.000000      0.000000  \n",
              "max      871.000000    275.000000  "
            ],
            "text/html": [
              "\n",
              "  <div id=\"df-7819c45c-e7fb-478f-a036-af1d22f6ec78\">\n",
              "    <div class=\"colab-df-container\">\n",
              "      <div>\n",
              "<style scoped>\n",
              "    .dataframe tbody tr th:only-of-type {\n",
              "        vertical-align: middle;\n",
              "    }\n",
              "\n",
              "    .dataframe tbody tr th {\n",
              "        vertical-align: top;\n",
              "    }\n",
              "\n",
              "    .dataframe thead th {\n",
              "        text-align: right;\n",
              "    }\n",
              "</style>\n",
              "<table border=\"1\" class=\"dataframe\">\n",
              "  <thead>\n",
              "    <tr style=\"text-align: right;\">\n",
              "      <th></th>\n",
              "      <th>age</th>\n",
              "      <th>balance</th>\n",
              "      <th>day</th>\n",
              "      <th>duration</th>\n",
              "      <th>campaign</th>\n",
              "      <th>pdays</th>\n",
              "      <th>previous</th>\n",
              "    </tr>\n",
              "  </thead>\n",
              "  <tbody>\n",
              "    <tr>\n",
              "      <th>count</th>\n",
              "      <td>45211.000000</td>\n",
              "      <td>45211.000000</td>\n",
              "      <td>45211.000000</td>\n",
              "      <td>45211.000000</td>\n",
              "      <td>45211.000000</td>\n",
              "      <td>45211.000000</td>\n",
              "      <td>45211.000000</td>\n",
              "    </tr>\n",
              "    <tr>\n",
              "      <th>mean</th>\n",
              "      <td>40.936210</td>\n",
              "      <td>1362.272058</td>\n",
              "      <td>15.806419</td>\n",
              "      <td>258.163080</td>\n",
              "      <td>2.763841</td>\n",
              "      <td>40.197828</td>\n",
              "      <td>0.580323</td>\n",
              "    </tr>\n",
              "    <tr>\n",
              "      <th>std</th>\n",
              "      <td>10.618762</td>\n",
              "      <td>3044.765829</td>\n",
              "      <td>8.322476</td>\n",
              "      <td>257.527812</td>\n",
              "      <td>3.098021</td>\n",
              "      <td>100.128746</td>\n",
              "      <td>2.303441</td>\n",
              "    </tr>\n",
              "    <tr>\n",
              "      <th>min</th>\n",
              "      <td>18.000000</td>\n",
              "      <td>-8019.000000</td>\n",
              "      <td>1.000000</td>\n",
              "      <td>0.000000</td>\n",
              "      <td>1.000000</td>\n",
              "      <td>-1.000000</td>\n",
              "      <td>0.000000</td>\n",
              "    </tr>\n",
              "    <tr>\n",
              "      <th>25%</th>\n",
              "      <td>33.000000</td>\n",
              "      <td>72.000000</td>\n",
              "      <td>8.000000</td>\n",
              "      <td>103.000000</td>\n",
              "      <td>1.000000</td>\n",
              "      <td>-1.000000</td>\n",
              "      <td>0.000000</td>\n",
              "    </tr>\n",
              "    <tr>\n",
              "      <th>50%</th>\n",
              "      <td>39.000000</td>\n",
              "      <td>448.000000</td>\n",
              "      <td>16.000000</td>\n",
              "      <td>180.000000</td>\n",
              "      <td>2.000000</td>\n",
              "      <td>-1.000000</td>\n",
              "      <td>0.000000</td>\n",
              "    </tr>\n",
              "    <tr>\n",
              "      <th>75%</th>\n",
              "      <td>48.000000</td>\n",
              "      <td>1428.000000</td>\n",
              "      <td>21.000000</td>\n",
              "      <td>319.000000</td>\n",
              "      <td>3.000000</td>\n",
              "      <td>-1.000000</td>\n",
              "      <td>0.000000</td>\n",
              "    </tr>\n",
              "    <tr>\n",
              "      <th>max</th>\n",
              "      <td>95.000000</td>\n",
              "      <td>102127.000000</td>\n",
              "      <td>31.000000</td>\n",
              "      <td>4918.000000</td>\n",
              "      <td>63.000000</td>\n",
              "      <td>871.000000</td>\n",
              "      <td>275.000000</td>\n",
              "    </tr>\n",
              "  </tbody>\n",
              "</table>\n",
              "</div>\n",
              "      <button class=\"colab-df-convert\" onclick=\"convertToInteractive('df-7819c45c-e7fb-478f-a036-af1d22f6ec78')\"\n",
              "              title=\"Convert this dataframe to an interactive table.\"\n",
              "              style=\"display:none;\">\n",
              "        \n",
              "  <svg xmlns=\"http://www.w3.org/2000/svg\" height=\"24px\"viewBox=\"0 0 24 24\"\n",
              "       width=\"24px\">\n",
              "    <path d=\"M0 0h24v24H0V0z\" fill=\"none\"/>\n",
              "    <path d=\"M18.56 5.44l.94 2.06.94-2.06 2.06-.94-2.06-.94-.94-2.06-.94 2.06-2.06.94zm-11 1L8.5 8.5l.94-2.06 2.06-.94-2.06-.94L8.5 2.5l-.94 2.06-2.06.94zm10 10l.94 2.06.94-2.06 2.06-.94-2.06-.94-.94-2.06-.94 2.06-2.06.94z\"/><path d=\"M17.41 7.96l-1.37-1.37c-.4-.4-.92-.59-1.43-.59-.52 0-1.04.2-1.43.59L10.3 9.45l-7.72 7.72c-.78.78-.78 2.05 0 2.83L4 21.41c.39.39.9.59 1.41.59.51 0 1.02-.2 1.41-.59l7.78-7.78 2.81-2.81c.8-.78.8-2.07 0-2.86zM5.41 20L4 18.59l7.72-7.72 1.47 1.35L5.41 20z\"/>\n",
              "  </svg>\n",
              "      </button>\n",
              "      \n",
              "  <style>\n",
              "    .colab-df-container {\n",
              "      display:flex;\n",
              "      flex-wrap:wrap;\n",
              "      gap: 12px;\n",
              "    }\n",
              "\n",
              "    .colab-df-convert {\n",
              "      background-color: #E8F0FE;\n",
              "      border: none;\n",
              "      border-radius: 50%;\n",
              "      cursor: pointer;\n",
              "      display: none;\n",
              "      fill: #1967D2;\n",
              "      height: 32px;\n",
              "      padding: 0 0 0 0;\n",
              "      width: 32px;\n",
              "    }\n",
              "\n",
              "    .colab-df-convert:hover {\n",
              "      background-color: #E2EBFA;\n",
              "      box-shadow: 0px 1px 2px rgba(60, 64, 67, 0.3), 0px 1px 3px 1px rgba(60, 64, 67, 0.15);\n",
              "      fill: #174EA6;\n",
              "    }\n",
              "\n",
              "    [theme=dark] .colab-df-convert {\n",
              "      background-color: #3B4455;\n",
              "      fill: #D2E3FC;\n",
              "    }\n",
              "\n",
              "    [theme=dark] .colab-df-convert:hover {\n",
              "      background-color: #434B5C;\n",
              "      box-shadow: 0px 1px 3px 1px rgba(0, 0, 0, 0.15);\n",
              "      filter: drop-shadow(0px 1px 2px rgba(0, 0, 0, 0.3));\n",
              "      fill: #FFFFFF;\n",
              "    }\n",
              "  </style>\n",
              "\n",
              "      <script>\n",
              "        const buttonEl =\n",
              "          document.querySelector('#df-7819c45c-e7fb-478f-a036-af1d22f6ec78 button.colab-df-convert');\n",
              "        buttonEl.style.display =\n",
              "          google.colab.kernel.accessAllowed ? 'block' : 'none';\n",
              "\n",
              "        async function convertToInteractive(key) {\n",
              "          const element = document.querySelector('#df-7819c45c-e7fb-478f-a036-af1d22f6ec78');\n",
              "          const dataTable =\n",
              "            await google.colab.kernel.invokeFunction('convertToInteractive',\n",
              "                                                     [key], {});\n",
              "          if (!dataTable) return;\n",
              "\n",
              "          const docLinkHtml = 'Like what you see? Visit the ' +\n",
              "            '<a target=\"_blank\" href=https://colab.research.google.com/notebooks/data_table.ipynb>data table notebook</a>'\n",
              "            + ' to learn more about interactive tables.';\n",
              "          element.innerHTML = '';\n",
              "          dataTable['output_type'] = 'display_data';\n",
              "          await google.colab.output.renderOutput(dataTable, element);\n",
              "          const docLink = document.createElement('div');\n",
              "          docLink.innerHTML = docLinkHtml;\n",
              "          element.appendChild(docLink);\n",
              "        }\n",
              "      </script>\n",
              "    </div>\n",
              "  </div>\n",
              "  "
            ]
          },
          "metadata": {},
          "execution_count": 7
        }
      ]
    },
    {
      "cell_type": "code",
      "source": [
        "# Let's see if there is any missing value in the dataset itself.\n",
        "\n",
        "df_PortugueseBank.isnull().sum()"
      ],
      "metadata": {
        "colab": {
          "base_uri": "https://localhost:8080/"
        },
        "id": "c6wBBKzyCWWA",
        "outputId": "924128e1-07c9-4df8-aa02-da09adc8fe79"
      },
      "execution_count": 8,
      "outputs": [
        {
          "output_type": "execute_result",
          "data": {
            "text/plain": [
              "age          0\n",
              "job          0\n",
              "marital      0\n",
              "education    0\n",
              "default      0\n",
              "balance      0\n",
              "housing      0\n",
              "loan         0\n",
              "contact      0\n",
              "day          0\n",
              "month        0\n",
              "duration     0\n",
              "campaign     0\n",
              "pdays        0\n",
              "previous     0\n",
              "poutcome     0\n",
              "y            0\n",
              "dtype: int64"
            ]
          },
          "metadata": {},
          "execution_count": 8
        }
      ]
    },
    {
      "cell_type": "markdown",
      "source": [
        "It is evident from the above observation that there is no missing value available in the dataset."
      ],
      "metadata": {
        "id": "NvtPPxtXEn5d"
      }
    },
    {
      "cell_type": "code",
      "source": [
        "# Before going further into analysis, let's make a copy of the original dataset as per the statndard practice.\n",
        "\n",
        "df_PortugueseBank_copy = df_PortugueseBank.copy()"
      ],
      "metadata": {
        "id": "elDj7pKaQmI0"
      },
      "execution_count": 9,
      "outputs": []
    },
    {
      "cell_type": "markdown",
      "source": [
        "# 3. Data Visualization"
      ],
      "metadata": {
        "id": "MeluwALVHlq7"
      }
    },
    {
      "cell_type": "code",
      "source": [
        "# Let's deep dive into categoreical variables in terms of data visualization of the dataset.\n",
        "\n",
        "cat_vars = ['job', 'marital', 'education', 'default', 'loan', 'contact', 'month', 'day', 'poutcome', 'y']\n",
        "\n",
        "# Let's run the for loop to go through all the categorical variables to have a better visualization of each categorical variable.\n",
        "\n",
        "for col in cat_vars:\n",
        "  plt.figure(figsize = (12,8))\n",
        "  sns.barplot(df_PortugueseBank_copy[col].value_counts().values, df_PortugueseBank_copy[col].value_counts().index)\n",
        "  plt.title(col)\n",
        "  plt.tight_layout()\n",
        "  plt.show()"
      ],
      "metadata": {
        "colab": {
          "base_uri": "https://localhost:8080/",
          "height": 1000
        },
        "id": "JZ5QS7CtDVhn",
        "outputId": "794e9a08-fc87-435e-9864-0a17a34dfa3a"
      },
      "execution_count": 10,
      "outputs": [
        {
          "output_type": "stream",
          "name": "stderr",
          "text": [
            "/usr/local/lib/python3.8/dist-packages/seaborn/_decorators.py:36: FutureWarning: Pass the following variables as keyword args: x, y. From version 0.12, the only valid positional argument will be `data`, and passing other arguments without an explicit keyword will result in an error or misinterpretation.\n",
            "  warnings.warn(\n"
          ]
        },
        {
          "output_type": "display_data",
          "data": {
            "text/plain": [
              "<Figure size 864x576 with 1 Axes>"
            ],
            "image/png": "[encoded data removed]"
          },
          "metadata": {
            "needs_background": "light"
          }
        },
        {
          "output_type": "stream",
          "name": "stderr",
          "text": [
            "/usr/local/lib/python3.8/dist-packages/seaborn/_decorators.py:36: FutureWarning: Pass the following variables as keyword args: x, y. From version 0.12, the only valid positional argument will be `data`, and passing other arguments without an explicit keyword will result in an error or misinterpretation.\n",
            "  warnings.warn(\n"
          ]
        },
        {
          "output_type": "display_data",
          "data": {
            "text/plain": [
              "<Figure size 864x576 with 1 Axes>"
            ],
            "image/png": "[encoded data removed]"
          },
          "metadata": {
            "needs_background": "light"
          }
        },
        {
          "output_type": "stream",
          "name": "stderr",
          "text": [
            "/usr/local/lib/python3.8/dist-packages/seaborn/_decorators.py:36: FutureWarning: Pass the following variables as keyword args: x, y. From version 0.12, the only valid positional argument will be `data`, and passing other arguments without an explicit keyword will result in an error or misinterpretation.\n",
            "  warnings.warn(\n"
          ]
        },
        {
          "output_type": "display_data",
          "data": {
            "text/plain": [
              "<Figure size 864x576 with 1 Axes>"
            ],
            "image/png": "[encoded data removed]"
          },
          "metadata": {
            "needs_background": "light"
          }
        },
        {
          "output_type": "stream",
          "name": "stderr",
          "text": [
            "/usr/local/lib/python3.8/dist-packages/seaborn/_decorators.py:36: FutureWarning: Pass the following variables as keyword args: x, y. From version 0.12, the only valid positional argument will be `data`, and passing other arguments without an explicit keyword will result in an error or misinterpretation.\n",
            "  warnings.warn(\n"
          ]
        },
        {
          "output_type": "display_data",
          "data": {
            "text/plain": [
              "<Figure size 864x576 with 1 Axes>"
            ],
            "image/png": "[encoded data removed]"
          },
          "metadata": {
            "needs_background": "light"
          }
        },
        {
          "output_type": "stream",
          "name": "stderr",
          "text": [
            "/usr/local/lib/python3.8/dist-packages/seaborn/_decorators.py:36: FutureWarning: Pass the following variables as keyword args: x, y. From version 0.12, the only valid positional argument will be `data`, and passing other arguments without an explicit keyword will result in an error or misinterpretation.\n",
            "  warnings.warn(\n"
          ]
        },
        {
          "output_type": "display_data",
          "data": {
            "text/plain": [
              "<Figure size 864x576 with 1 Axes>"
            ],
            "image/png": "[encoded data removed]"
          },
          "metadata": {
            "needs_background": "light"
          }
        },
        {
          "output_type": "stream",
          "name": "stderr",
          "text": [
            "/usr/local/lib/python3.8/dist-packages/seaborn/_decorators.py:36: FutureWarning: Pass the following variables as keyword args: x, y. From version 0.12, the only valid positional argument will be `data`, and passing other arguments without an explicit keyword will result in an error or misinterpretation.\n",
            "  warnings.warn(\n"
          ]
        },
        {
          "output_type": "display_data",
          "data": {
            "text/plain": [
              "<Figure size 864x576 with 1 Axes>"
            ],
            "image/png": "[encoded data removed]"
          },
          "metadata": {
            "needs_background": "light"
          }
        },
        {
          "output_type": "stream",
          "name": "stderr",
          "text": [
            "/usr/local/lib/python3.8/dist-packages/seaborn/_decorators.py:36: FutureWarning: Pass the following variables as keyword args: x, y. From version 0.12, the only valid positional argument will be `data`, and passing other arguments without an explicit keyword will result in an error or misinterpretation.\n",
            "  warnings.warn(\n"
          ]
        },
        {
          "output_type": "display_data",
          "data": {
            "text/plain": [
              "<Figure size 864x576 with 1 Axes>"
            ],
            "image/png": "[encoded data removed]"
          },
          "metadata": {
            "needs_background": "light"
          }
        },
        {
          "output_type": "stream",
          "name": "stderr",
          "text": [
            "/usr/local/lib/python3.8/dist-packages/seaborn/_decorators.py:36: FutureWarning: Pass the following variables as keyword args: x, y. From version 0.12, the only valid positional argument will be `data`, and passing other arguments without an explicit keyword will result in an error or misinterpretation.\n",
            "  warnings.warn(\n"
          ]
        },
        {
          "output_type": "display_data",
          "data": {
            "text/plain": [
              "<Figure size 864x576 with 1 Axes>"
            ],
            "image/png": "[encoded data removed]"
          },
          "metadata": {
            "needs_background": "light"
          }
        },
        {
          "output_type": "stream",
          "name": "stderr",
          "text": [
            "/usr/local/lib/python3.8/dist-packages/seaborn/_decorators.py:36: FutureWarning: Pass the following variables as keyword args: x, y. From version 0.12, the only valid positional argument will be `data`, and passing other arguments without an explicit keyword will result in an error or misinterpretation.\n",
            "  warnings.warn(\n"
          ]
        },
        {
          "output_type": "display_data",
          "data": {
            "text/plain": [
              "<Figure size 864x576 with 1 Axes>"
            ],
            "image/png": "[encoded data removed]"
          },
          "metadata": {
            "needs_background": "light"
          }
        },
        {
          "output_type": "stream",
          "name": "stderr",
          "text": [
            "/usr/local/lib/python3.8/dist-packages/seaborn/_decorators.py:36: FutureWarning: Pass the following variables as keyword args: x, y. From version 0.12, the only valid positional argument will be `data`, and passing other arguments without an explicit keyword will result in an error or misinterpretation.\n",
            "  warnings.warn(\n"
          ]
        },
        {
          "output_type": "display_data",
          "data": {
            "text/plain": [
              "<Figure size 864x576 with 1 Axes>"
            ],
            "image/png": "[encoded data removed]"
          },
          "metadata": {
            "needs_background": "light"
          }
        }
      ]
    },
    {
      "cell_type": "markdown",
      "source": [
        "# Observations:\n",
        "\n",
        "From above bar plots, it can be observed that\n",
        "\n",
        "* There are 45211 rows and 17 columns.\n",
        "\n",
        "* No missing values\n",
        "\n",
        "* There are unknown values for many variables in the Data set.\n",
        "\n",
        "* Variables with unknown/missing values are : 'education', 'job', 'housing', 'loan', 'deafult', and 'marital'."
      ],
      "metadata": {
        "id": "SCUP0M8nKpEz"
      }
    },
    {
      "cell_type": "markdown",
      "source": [
        "# 4. Correlation Matrix of Numerical Features"
      ],
      "metadata": {
        "id": "0ZCTooHqK8sL"
      }
    },
    {
      "cell_type": "code",
      "source": [
        "# Converting the target variable 'y' into numerical feature\n",
        "# Considering 'no' as 0 and 'yes' as 1.\n",
        "\n",
        "df_PortugueseBank_copy.y = df_PortugueseBank_copy.y.map({'yes' : 1, 'no' : 0}).astype('uint8')"
      ],
      "metadata": {
        "id": "cJoVS9MYKG2S"
      },
      "execution_count": 11,
      "outputs": []
    },
    {
      "cell_type": "code",
      "source": [
        "Correlation = df_PortugueseBank_copy.corr()\n",
        "\n",
        "f, ax = plt.subplots(figsize = (12,12))\n",
        "sns.heatmap(Correlation, ax = ax, annot = True)\n",
        "plt.title('Pearson Correlation of Features', size = 16)\n",
        "plt.show()"
      ],
      "metadata": {
        "colab": {
          "base_uri": "https://localhost:8080/",
          "height": 718
        },
        "id": "LtdBmNcCMGu2",
        "outputId": "858ff5e0-e5bf-4114-a491-a0d1b911edfa"
      },
      "execution_count": 12,
      "outputs": [
        {
          "output_type": "display_data",
          "data": {
            "text/plain": [
              "<Figure size 864x864 with 2 Axes>"
            ],
            "image/png": "[encoded data removed]"
          },
          "metadata": {
            "needs_background": "light"
          }
        }
      ]
    },
    {
      "cell_type": "markdown",
      "source": [
        "It is crystal clear from the above corelation heatmap that the output feature 'y' is not highly correlated to any variable."
      ],
      "metadata": {
        "id": "vv95qO-PPslb"
      }
    },
    {
      "cell_type": "code",
      "source": [
        "# Dropping off 'marital' and 'contact' columns as those two columns are of no use in the dataset itself.\n",
        "\n",
        "df_PortugueseBank_copy.drop(['marital'], axis = 1, inplace = True)\n",
        "df_PortugueseBank_copy.drop(['contact'], axis = 1, inplace = True)"
      ],
      "metadata": {
        "id": "QBI60YfkPNZI"
      },
      "execution_count": 13,
      "outputs": []
    },
    {
      "cell_type": "code",
      "source": [
        "# Let's see after dropping those two columns (\"marital\" and 'contact'), how the new dataset looks like.\n",
        "\n",
        "df_PortugueseBank_copy.head()"
      ],
      "metadata": {
        "colab": {
          "base_uri": "https://localhost:8080/",
          "height": 206
        },
        "id": "_UdvSnq_R5wf",
        "outputId": "ff6d2f45-4c20-4ed6-a4f7-f65761ccaa2a"
      },
      "execution_count": 14,
      "outputs": [
        {
          "output_type": "execute_result",
          "data": {
            "text/plain": [
              "   age           job  education default  balance housing loan  day month  \\\n",
              "0   58    management   tertiary      no     2143     yes   no    5   may   \n",
              "1   44    technician  secondary      no       29     yes   no    5   may   \n",
              "2   33  entrepreneur  secondary      no        2     yes  yes    5   may   \n",
              "3   47   blue-collar    unknown      no     1506     yes   no    5   may   \n",
              "4   33       unknown    unknown      no        1      no   no    5   may   \n",
              "\n",
              "   duration  campaign  pdays  previous poutcome  y  \n",
              "0       261         1     -1         0  unknown  0  \n",
              "1       151         1     -1         0  unknown  0  \n",
              "2        76         1     -1         0  unknown  0  \n",
              "3        92         1     -1         0  unknown  0  \n",
              "4       198         1     -1         0  unknown  0  "
            ],
            "text/html": [
              "\n",
              "  <div id=\"df-18a20627-cac5-4bd3-b5d2-65b6fae20b5d\">\n",
              "    <div class=\"colab-df-container\">\n",
              "      <div>\n",
              "<style scoped>\n",
              "    .dataframe tbody tr th:only-of-type {\n",
              "        vertical-align: middle;\n",
              "    }\n",
              "\n",
              "    .dataframe tbody tr th {\n",
              "        vertical-align: top;\n",
              "    }\n",
              "\n",
              "    .dataframe thead th {\n",
              "        text-align: right;\n",
              "    }\n",
              "</style>\n",
              "<table border=\"1\" class=\"dataframe\">\n",
              "  <thead>\n",
              "    <tr style=\"text-align: right;\">\n",
              "      <th></th>\n",
              "      <th>age</th>\n",
              "      <th>job</th>\n",
              "      <th>education</th>\n",
              "      <th>default</th>\n",
              "      <th>balance</th>\n",
              "      <th>housing</th>\n",
              "      <th>loan</th>\n",
              "      <th>day</th>\n",
              "      <th>month</th>\n",
              "      <th>duration</th>\n",
              "      <th>campaign</th>\n",
              "      <th>pdays</th>\n",
              "      <th>previous</th>\n",
              "      <th>poutcome</th>\n",
              "      <th>y</th>\n",
              "    </tr>\n",
              "  </thead>\n",
              "  <tbody>\n",
              "    <tr>\n",
              "      <th>0</th>\n",
              "      <td>58</td>\n",
              "      <td>management</td>\n",
              "      <td>tertiary</td>\n",
              "      <td>no</td>\n",
              "      <td>2143</td>\n",
              "      <td>yes</td>\n",
              "      <td>no</td>\n",
              "      <td>5</td>\n",
              "      <td>may</td>\n",
              "      <td>261</td>\n",
              "      <td>1</td>\n",
              "      <td>-1</td>\n",
              "      <td>0</td>\n",
              "      <td>unknown</td>\n",
              "      <td>0</td>\n",
              "    </tr>\n",
              "    <tr>\n",
              "      <th>1</th>\n",
              "      <td>44</td>\n",
              "      <td>technician</td>\n",
              "      <td>secondary</td>\n",
              "      <td>no</td>\n",
              "      <td>29</td>\n",
              "      <td>yes</td>\n",
              "      <td>no</td>\n",
              "      <td>5</td>\n",
              "      <td>may</td>\n",
              "      <td>151</td>\n",
              "      <td>1</td>\n",
              "      <td>-1</td>\n",
              "      <td>0</td>\n",
              "      <td>unknown</td>\n",
              "      <td>0</td>\n",
              "    </tr>\n",
              "    <tr>\n",
              "      <th>2</th>\n",
              "      <td>33</td>\n",
              "      <td>entrepreneur</td>\n",
              "      <td>secondary</td>\n",
              "      <td>no</td>\n",
              "      <td>2</td>\n",
              "      <td>yes</td>\n",
              "      <td>yes</td>\n",
              "      <td>5</td>\n",
              "      <td>may</td>\n",
              "      <td>76</td>\n",
              "      <td>1</td>\n",
              "      <td>-1</td>\n",
              "      <td>0</td>\n",
              "      <td>unknown</td>\n",
              "      <td>0</td>\n",
              "    </tr>\n",
              "    <tr>\n",
              "      <th>3</th>\n",
              "      <td>47</td>\n",
              "      <td>blue-collar</td>\n",
              "      <td>unknown</td>\n",
              "      <td>no</td>\n",
              "      <td>1506</td>\n",
              "      <td>yes</td>\n",
              "      <td>no</td>\n",
              "      <td>5</td>\n",
              "      <td>may</td>\n",
              "      <td>92</td>\n",
              "      <td>1</td>\n",
              "      <td>-1</td>\n",
              "      <td>0</td>\n",
              "      <td>unknown</td>\n",
              "      <td>0</td>\n",
              "    </tr>\n",
              "    <tr>\n",
              "      <th>4</th>\n",
              "      <td>33</td>\n",
              "      <td>unknown</td>\n",
              "      <td>unknown</td>\n",
              "      <td>no</td>\n",
              "      <td>1</td>\n",
              "      <td>no</td>\n",
              "      <td>no</td>\n",
              "      <td>5</td>\n",
              "      <td>may</td>\n",
              "      <td>198</td>\n",
              "      <td>1</td>\n",
              "      <td>-1</td>\n",
              "      <td>0</td>\n",
              "      <td>unknown</td>\n",
              "      <td>0</td>\n",
              "    </tr>\n",
              "  </tbody>\n",
              "</table>\n",
              "</div>\n",
              "      <button class=\"colab-df-convert\" onclick=\"convertToInteractive('df-18a20627-cac5-4bd3-b5d2-65b6fae20b5d')\"\n",
              "              title=\"Convert this dataframe to an interactive table.\"\n",
              "              style=\"display:none;\">\n",
              "        \n",
              "  <svg xmlns=\"http://www.w3.org/2000/svg\" height=\"24px\"viewBox=\"0 0 24 24\"\n",
              "       width=\"24px\">\n",
              "    <path d=\"M0 0h24v24H0V0z\" fill=\"none\"/>\n",
              "    <path d=\"M18.56 5.44l.94 2.06.94-2.06 2.06-.94-2.06-.94-.94-2.06-.94 2.06-2.06.94zm-11 1L8.5 8.5l.94-2.06 2.06-.94-2.06-.94L8.5 2.5l-.94 2.06-2.06.94zm10 10l.94 2.06.94-2.06 2.06-.94-2.06-.94-.94-2.06-.94 2.06-2.06.94z\"/><path d=\"M17.41 7.96l-1.37-1.37c-.4-.4-.92-.59-1.43-.59-.52 0-1.04.2-1.43.59L10.3 9.45l-7.72 7.72c-.78.78-.78 2.05 0 2.83L4 21.41c.39.39.9.59 1.41.59.51 0 1.02-.2 1.41-.59l7.78-7.78 2.81-2.81c.8-.78.8-2.07 0-2.86zM5.41 20L4 18.59l7.72-7.72 1.47 1.35L5.41 20z\"/>\n",
              "  </svg>\n",
              "      </button>\n",
              "      \n",
              "  <style>\n",
              "    .colab-df-container {\n",
              "      display:flex;\n",
              "      flex-wrap:wrap;\n",
              "      gap: 12px;\n",
              "    }\n",
              "\n",
              "    .colab-df-convert {\n",
              "      background-color: #E8F0FE;\n",
              "      border: none;\n",
              "      border-radius: 50%;\n",
              "      cursor: pointer;\n",
              "      display: none;\n",
              "      fill: #1967D2;\n",
              "      height: 32px;\n",
              "      padding: 0 0 0 0;\n",
              "      width: 32px;\n",
              "    }\n",
              "\n",
              "    .colab-df-convert:hover {\n",
              "      background-color: #E2EBFA;\n",
              "      box-shadow: 0px 1px 2px rgba(60, 64, 67, 0.3), 0px 1px 3px 1px rgba(60, 64, 67, 0.15);\n",
              "      fill: #174EA6;\n",
              "    }\n",
              "\n",
              "    [theme=dark] .colab-df-convert {\n",
              "      background-color: #3B4455;\n",
              "      fill: #D2E3FC;\n",
              "    }\n",
              "\n",
              "    [theme=dark] .colab-df-convert:hover {\n",
              "      background-color: #434B5C;\n",
              "      box-shadow: 0px 1px 3px 1px rgba(0, 0, 0, 0.15);\n",
              "      filter: drop-shadow(0px 1px 2px rgba(0, 0, 0, 0.3));\n",
              "      fill: #FFFFFF;\n",
              "    }\n",
              "  </style>\n",
              "\n",
              "      <script>\n",
              "        const buttonEl =\n",
              "          document.querySelector('#df-18a20627-cac5-4bd3-b5d2-65b6fae20b5d button.colab-df-convert');\n",
              "        buttonEl.style.display =\n",
              "          google.colab.kernel.accessAllowed ? 'block' : 'none';\n",
              "\n",
              "        async function convertToInteractive(key) {\n",
              "          const element = document.querySelector('#df-18a20627-cac5-4bd3-b5d2-65b6fae20b5d');\n",
              "          const dataTable =\n",
              "            await google.colab.kernel.invokeFunction('convertToInteractive',\n",
              "                                                     [key], {});\n",
              "          if (!dataTable) return;\n",
              "\n",
              "          const docLinkHtml = 'Like what you see? Visit the ' +\n",
              "            '<a target=\"_blank\" href=https://colab.research.google.com/notebooks/data_table.ipynb>data table notebook</a>'\n",
              "            + ' to learn more about interactive tables.';\n",
              "          element.innerHTML = '';\n",
              "          dataTable['output_type'] = 'display_data';\n",
              "          await google.colab.output.renderOutput(dataTable, element);\n",
              "          const docLink = document.createElement('div');\n",
              "          docLink.innerHTML = docLinkHtml;\n",
              "          element.appendChild(docLink);\n",
              "        }\n",
              "      </script>\n",
              "    </div>\n",
              "  </div>\n",
              "  "
            ]
          },
          "metadata": {},
          "execution_count": 14
        }
      ]
    },
    {
      "cell_type": "markdown",
      "source": [
        "# 5. Conversion of Categorical Variables into Numerical\n",
        "\n",
        "Now, we need to convert all categorical features into numerical for the sake of analysis."
      ],
      "metadata": {
        "id": "vJKkvyIsTOKn"
      }
    },
    {
      "cell_type": "code",
      "source": [
        "# Converting 'yes' into '1' and 'no' into '0' for columns 'default', 'housing', 'loan' first.\n",
        "\n",
        "df_PortugueseBank_copy[['default', 'housing', 'loan']] = df_PortugueseBank_copy[['default', 'housing', 'loan']].replace(['yes', 'no'], ['1', '0'])"
      ],
      "metadata": {
        "id": "3v3mMNEQS3xG"
      },
      "execution_count": 15,
      "outputs": []
    },
    {
      "cell_type": "code",
      "source": [
        "# Column ' month' consists of 12 months as 'Jjan', 'feb', 'mar' up to 'dec'.\n",
        "# Replacing 'jan', 'feb' and so on as '1', '2' respectively.\n",
        "\n",
        "\n",
        "df_PortugueseBank_copy['month'] = df_PortugueseBank_copy['month'].replace(['jan', 'feb', 'mar', 'apr', 'may', 'jun', 'jul', 'aug', 'sep', 'oct', 'nov', 'dec'], \n",
        "                                                                          ['1', '2', '3', '4', '5', '6', '7', '8', '9', '10', '11', '12'])\n"
      ],
      "metadata": {
        "id": "GLFHklp_Uxzg"
      },
      "execution_count": 16,
      "outputs": []
    },
    {
      "cell_type": "code",
      "source": [
        "# And lastly replacing 'unknown' with 'other as job category or designation in 'job' column as 'unknown' will not be handful meaning as far as further analysis is concerned.\n",
        "\n",
        "df_PortugueseBank_copy['job'] = df_PortugueseBank_copy['job'].replace(['unknown'], ['other'])"
      ],
      "metadata": {
        "id": "2roEYH5fXitK"
      },
      "execution_count": 17,
      "outputs": []
    },
    {
      "cell_type": "code",
      "source": [
        "# Now let's have a look the new form of the dataset fater so many replacements.\n",
        "\n",
        "df_PortugueseBank_copy"
      ],
      "metadata": {
        "colab": {
          "base_uri": "https://localhost:8080/",
          "height": 423
        },
        "id": "up4AlbRvaoaH",
        "outputId": "ea3ecf05-08c7-4625-8981-8cc4f50152e0"
      },
      "execution_count": 18,
      "outputs": [
        {
          "output_type": "execute_result",
          "data": {
            "text/plain": [
              "       age           job  education default  balance housing loan  day month  \\\n",
              "0       58    management   tertiary       0     2143       1    0    5     5   \n",
              "1       44    technician  secondary       0       29       1    0    5     5   \n",
              "2       33  entrepreneur  secondary       0        2       1    1    5     5   \n",
              "3       47   blue-collar    unknown       0     1506       1    0    5     5   \n",
              "4       33         other    unknown       0        1       0    0    5     5   \n",
              "...    ...           ...        ...     ...      ...     ...  ...  ...   ...   \n",
              "45206   51    technician   tertiary       0      825       0    0   17    11   \n",
              "45207   71       retired    primary       0     1729       0    0   17    11   \n",
              "45208   72       retired  secondary       0     5715       0    0   17    11   \n",
              "45209   57   blue-collar  secondary       0      668       0    0   17    11   \n",
              "45210   37  entrepreneur  secondary       0     2971       0    0   17    11   \n",
              "\n",
              "       duration  campaign  pdays  previous poutcome  y  \n",
              "0           261         1     -1         0  unknown  0  \n",
              "1           151         1     -1         0  unknown  0  \n",
              "2            76         1     -1         0  unknown  0  \n",
              "3            92         1     -1         0  unknown  0  \n",
              "4           198         1     -1         0  unknown  0  \n",
              "...         ...       ...    ...       ...      ... ..  \n",
              "45206       977         3     -1         0  unknown  1  \n",
              "45207       456         2     -1         0  unknown  1  \n",
              "45208      1127         5    184         3  success  1  \n",
              "45209       508         4     -1         0  unknown  0  \n",
              "45210       361         2    188        11    other  0  \n",
              "\n",
              "[45211 rows x 15 columns]"
            ],
            "text/html": [
              "\n",
              "  <div id=\"df-0a48219a-2314-4478-bd30-5001911b7edf\">\n",
              "    <div class=\"colab-df-container\">\n",
              "      <div>\n",
              "<style scoped>\n",
              "    .dataframe tbody tr th:only-of-type {\n",
              "        vertical-align: middle;\n",
              "    }\n",
              "\n",
              "    .dataframe tbody tr th {\n",
              "        vertical-align: top;\n",
              "    }\n",
              "\n",
              "    .dataframe thead th {\n",
              "        text-align: right;\n",
              "    }\n",
              "</style>\n",
              "<table border=\"1\" class=\"dataframe\">\n",
              "  <thead>\n",
              "    <tr style=\"text-align: right;\">\n",
              "      <th></th>\n",
              "      <th>age</th>\n",
              "      <th>job</th>\n",
              "      <th>education</th>\n",
              "      <th>default</th>\n",
              "      <th>balance</th>\n",
              "      <th>housing</th>\n",
              "      <th>loan</th>\n",
              "      <th>day</th>\n",
              "      <th>month</th>\n",
              "      <th>duration</th>\n",
              "      <th>campaign</th>\n",
              "      <th>pdays</th>\n",
              "      <th>previous</th>\n",
              "      <th>poutcome</th>\n",
              "      <th>y</th>\n",
              "    </tr>\n",
              "  </thead>\n",
              "  <tbody>\n",
              "    <tr>\n",
              "      <th>0</th>\n",
              "      <td>58</td>\n",
              "      <td>management</td>\n",
              "      <td>tertiary</td>\n",
              "      <td>0</td>\n",
              "      <td>2143</td>\n",
              "      <td>1</td>\n",
              "      <td>0</td>\n",
              "      <td>5</td>\n",
              "      <td>5</td>\n",
              "      <td>261</td>\n",
              "      <td>1</td>\n",
              "      <td>-1</td>\n",
              "      <td>0</td>\n",
              "      <td>unknown</td>\n",
              "      <td>0</td>\n",
              "    </tr>\n",
              "    <tr>\n",
              "      <th>1</th>\n",
              "      <td>44</td>\n",
              "      <td>technician</td>\n",
              "      <td>secondary</td>\n",
              "      <td>0</td>\n",
              "      <td>29</td>\n",
              "      <td>1</td>\n",
              "      <td>0</td>\n",
              "      <td>5</td>\n",
              "      <td>5</td>\n",
              "      <td>151</td>\n",
              "      <td>1</td>\n",
              "      <td>-1</td>\n",
              "      <td>0</td>\n",
              "      <td>unknown</td>\n",
              "      <td>0</td>\n",
              "    </tr>\n",
              "    <tr>\n",
              "      <th>2</th>\n",
              "      <td>33</td>\n",
              "      <td>entrepreneur</td>\n",
              "      <td>secondary</td>\n",
              "      <td>0</td>\n",
              "      <td>2</td>\n",
              "      <td>1</td>\n",
              "      <td>1</td>\n",
              "      <td>5</td>\n",
              "      <td>5</td>\n",
              "      <td>76</td>\n",
              "      <td>1</td>\n",
              "      <td>-1</td>\n",
              "      <td>0</td>\n",
              "      <td>unknown</td>\n",
              "      <td>0</td>\n",
              "    </tr>\n",
              "    <tr>\n",
              "      <th>3</th>\n",
              "      <td>47</td>\n",
              "      <td>blue-collar</td>\n",
              "      <td>unknown</td>\n",
              "      <td>0</td>\n",
              "      <td>1506</td>\n",
              "      <td>1</td>\n",
              "      <td>0</td>\n",
              "      <td>5</td>\n",
              "      <td>5</td>\n",
              "      <td>92</td>\n",
              "      <td>1</td>\n",
              "      <td>-1</td>\n",
              "      <td>0</td>\n",
              "      <td>unknown</td>\n",
              "      <td>0</td>\n",
              "    </tr>\n",
              "    <tr>\n",
              "      <th>4</th>\n",
              "      <td>33</td>\n",
              "      <td>other</td>\n",
              "      <td>unknown</td>\n",
              "      <td>0</td>\n",
              "      <td>1</td>\n",
              "      <td>0</td>\n",
              "      <td>0</td>\n",
              "      <td>5</td>\n",
              "      <td>5</td>\n",
              "      <td>198</td>\n",
              "      <td>1</td>\n",
              "      <td>-1</td>\n",
              "      <td>0</td>\n",
              "      <td>unknown</td>\n",
              "      <td>0</td>\n",
              "    </tr>\n",
              "    <tr>\n",
              "      <th>...</th>\n",
              "      <td>...</td>\n",
              "      <td>...</td>\n",
              "      <td>...</td>\n",
              "      <td>...</td>\n",
              "      <td>...</td>\n",
              "      <td>...</td>\n",
              "      <td>...</td>\n",
              "      <td>...</td>\n",
              "      <td>...</td>\n",
              "      <td>...</td>\n",
              "      <td>...</td>\n",
              "      <td>...</td>\n",
              "      <td>...</td>\n",
              "      <td>...</td>\n",
              "      <td>...</td>\n",
              "    </tr>\n",
              "    <tr>\n",
              "      <th>45206</th>\n",
              "      <td>51</td>\n",
              "      <td>technician</td>\n",
              "      <td>tertiary</td>\n",
              "      <td>0</td>\n",
              "      <td>825</td>\n",
              "      <td>0</td>\n",
              "      <td>0</td>\n",
              "      <td>17</td>\n",
              "      <td>11</td>\n",
              "      <td>977</td>\n",
              "      <td>3</td>\n",
              "      <td>-1</td>\n",
              "      <td>0</td>\n",
              "      <td>unknown</td>\n",
              "      <td>1</td>\n",
              "    </tr>\n",
              "    <tr>\n",
              "      <th>45207</th>\n",
              "      <td>71</td>\n",
              "      <td>retired</td>\n",
              "      <td>primary</td>\n",
              "      <td>0</td>\n",
              "      <td>1729</td>\n",
              "      <td>0</td>\n",
              "      <td>0</td>\n",
              "      <td>17</td>\n",
              "      <td>11</td>\n",
              "      <td>456</td>\n",
              "      <td>2</td>\n",
              "      <td>-1</td>\n",
              "      <td>0</td>\n",
              "      <td>unknown</td>\n",
              "      <td>1</td>\n",
              "    </tr>\n",
              "    <tr>\n",
              "      <th>45208</th>\n",
              "      <td>72</td>\n",
              "      <td>retired</td>\n",
              "      <td>secondary</td>\n",
              "      <td>0</td>\n",
              "      <td>5715</td>\n",
              "      <td>0</td>\n",
              "      <td>0</td>\n",
              "      <td>17</td>\n",
              "      <td>11</td>\n",
              "      <td>1127</td>\n",
              "      <td>5</td>\n",
              "      <td>184</td>\n",
              "      <td>3</td>\n",
              "      <td>success</td>\n",
              "      <td>1</td>\n",
              "    </tr>\n",
              "    <tr>\n",
              "      <th>45209</th>\n",
              "      <td>57</td>\n",
              "      <td>blue-collar</td>\n",
              "      <td>secondary</td>\n",
              "      <td>0</td>\n",
              "      <td>668</td>\n",
              "      <td>0</td>\n",
              "      <td>0</td>\n",
              "      <td>17</td>\n",
              "      <td>11</td>\n",
              "      <td>508</td>\n",
              "      <td>4</td>\n",
              "      <td>-1</td>\n",
              "      <td>0</td>\n",
              "      <td>unknown</td>\n",
              "      <td>0</td>\n",
              "    </tr>\n",
              "    <tr>\n",
              "      <th>45210</th>\n",
              "      <td>37</td>\n",
              "      <td>entrepreneur</td>\n",
              "      <td>secondary</td>\n",
              "      <td>0</td>\n",
              "      <td>2971</td>\n",
              "      <td>0</td>\n",
              "      <td>0</td>\n",
              "      <td>17</td>\n",
              "      <td>11</td>\n",
              "      <td>361</td>\n",
              "      <td>2</td>\n",
              "      <td>188</td>\n",
              "      <td>11</td>\n",
              "      <td>other</td>\n",
              "      <td>0</td>\n",
              "    </tr>\n",
              "  </tbody>\n",
              "</table>\n",
              "<p>45211 rows × 15 columns</p>\n",
              "</div>\n",
              "      <button class=\"colab-df-convert\" onclick=\"convertToInteractive('df-0a48219a-2314-4478-bd30-5001911b7edf')\"\n",
              "              title=\"Convert this dataframe to an interactive table.\"\n",
              "              style=\"display:none;\">\n",
              "        \n",
              "  <svg xmlns=\"http://www.w3.org/2000/svg\" height=\"24px\"viewBox=\"0 0 24 24\"\n",
              "       width=\"24px\">\n",
              "    <path d=\"M0 0h24v24H0V0z\" fill=\"none\"/>\n",
              "    <path d=\"M18.56 5.44l.94 2.06.94-2.06 2.06-.94-2.06-.94-.94-2.06-.94 2.06-2.06.94zm-11 1L8.5 8.5l.94-2.06 2.06-.94-2.06-.94L8.5 2.5l-.94 2.06-2.06.94zm10 10l.94 2.06.94-2.06 2.06-.94-2.06-.94-.94-2.06-.94 2.06-2.06.94z\"/><path d=\"M17.41 7.96l-1.37-1.37c-.4-.4-.92-.59-1.43-.59-.52 0-1.04.2-1.43.59L10.3 9.45l-7.72 7.72c-.78.78-.78 2.05 0 2.83L4 21.41c.39.39.9.59 1.41.59.51 0 1.02-.2 1.41-.59l7.78-7.78 2.81-2.81c.8-.78.8-2.07 0-2.86zM5.41 20L4 18.59l7.72-7.72 1.47 1.35L5.41 20z\"/>\n",
              "  </svg>\n",
              "      </button>\n",
              "      \n",
              "  <style>\n",
              "    .colab-df-container {\n",
              "      display:flex;\n",
              "      flex-wrap:wrap;\n",
              "      gap: 12px;\n",
              "    }\n",
              "\n",
              "    .colab-df-convert {\n",
              "      background-color: #E8F0FE;\n",
              "      border: none;\n",
              "      border-radius: 50%;\n",
              "      cursor: pointer;\n",
              "      display: none;\n",
              "      fill: #1967D2;\n",
              "      height: 32px;\n",
              "      padding: 0 0 0 0;\n",
              "      width: 32px;\n",
              "    }\n",
              "\n",
              "    .colab-df-convert:hover {\n",
              "      background-color: #E2EBFA;\n",
              "      box-shadow: 0px 1px 2px rgba(60, 64, 67, 0.3), 0px 1px 3px 1px rgba(60, 64, 67, 0.15);\n",
              "      fill: #174EA6;\n",
              "    }\n",
              "\n",
              "    [theme=dark] .colab-df-convert {\n",
              "      background-color: #3B4455;\n",
              "      fill: #D2E3FC;\n",
              "    }\n",
              "\n",
              "    [theme=dark] .colab-df-convert:hover {\n",
              "      background-color: #434B5C;\n",
              "      box-shadow: 0px 1px 3px 1px rgba(0, 0, 0, 0.15);\n",
              "      filter: drop-shadow(0px 1px 2px rgba(0, 0, 0, 0.3));\n",
              "      fill: #FFFFFF;\n",
              "    }\n",
              "  </style>\n",
              "\n",
              "      <script>\n",
              "        const buttonEl =\n",
              "          document.querySelector('#df-0a48219a-2314-4478-bd30-5001911b7edf button.colab-df-convert');\n",
              "        buttonEl.style.display =\n",
              "          google.colab.kernel.accessAllowed ? 'block' : 'none';\n",
              "\n",
              "        async function convertToInteractive(key) {\n",
              "          const element = document.querySelector('#df-0a48219a-2314-4478-bd30-5001911b7edf');\n",
              "          const dataTable =\n",
              "            await google.colab.kernel.invokeFunction('convertToInteractive',\n",
              "                                                     [key], {});\n",
              "          if (!dataTable) return;\n",
              "\n",
              "          const docLinkHtml = 'Like what you see? Visit the ' +\n",
              "            '<a target=\"_blank\" href=https://colab.research.google.com/notebooks/data_table.ipynb>data table notebook</a>'\n",
              "            + ' to learn more about interactive tables.';\n",
              "          element.innerHTML = '';\n",
              "          dataTable['output_type'] = 'display_data';\n",
              "          await google.colab.output.renderOutput(dataTable, element);\n",
              "          const docLink = document.createElement('div');\n",
              "          docLink.innerHTML = docLinkHtml;\n",
              "          element.appendChild(docLink);\n",
              "        }\n",
              "      </script>\n",
              "    </div>\n",
              "  </div>\n",
              "  "
            ]
          },
          "metadata": {},
          "execution_count": 18
        }
      ]
    },
    {
      "cell_type": "markdown",
      "source": [
        "# 6. Implementation of Label Encoder ( OneHotEncoding )\n",
        "\n",
        "First of all, Lable Encoding will be applied on 'job', 'education', and 'poutcome' column as far as our data analysis is concerned."
      ],
      "metadata": {
        "id": "UvmWBgoHa99a"
      }
    },
    {
      "cell_type": "code",
      "source": [
        "# Applying Label Encoding on the above mentioned three columns.\n",
        "\n",
        "from sklearn.preprocessing import LabelEncoder\n",
        "Lab_Enco = LabelEncoder()\n",
        "df_PortugueseBank_copy['job'] = Lab_Enco.fit_transform(df_PortugueseBank_copy['job'])\n",
        "df_PortugueseBank_copy['education'] = Lab_Enco.fit_transform(df_PortugueseBank_copy['education'])\n",
        "df_PortugueseBank_copy['poutcome'] = Lab_Enco.fit_transform(df_PortugueseBank_copy['poutcome'])"
      ],
      "metadata": {
        "id": "YYUXK0CPa0N7"
      },
      "execution_count": 19,
      "outputs": []
    },
    {
      "cell_type": "code",
      "source": [
        "# The new dataset after the implementation of Label Encoding on the above mentioned three columns.\n",
        "\n",
        "df_PortugueseBank_copy"
      ],
      "metadata": {
        "colab": {
          "base_uri": "https://localhost:8080/",
          "height": 423
        },
        "id": "VM3GGN0leImu",
        "outputId": "27f34142-61b4-425b-9b9e-ed78f37d8607"
      },
      "execution_count": 20,
      "outputs": [
        {
          "output_type": "execute_result",
          "data": {
            "text/plain": [
              "       age  job  education default  balance housing loan  day month  duration  \\\n",
              "0       58    4          2       0     2143       1    0    5     5       261   \n",
              "1       44   10          1       0       29       1    0    5     5       151   \n",
              "2       33    2          1       0        2       1    1    5     5        76   \n",
              "3       47    1          3       0     1506       1    0    5     5        92   \n",
              "4       33    5          3       0        1       0    0    5     5       198   \n",
              "...    ...  ...        ...     ...      ...     ...  ...  ...   ...       ...   \n",
              "45206   51   10          2       0      825       0    0   17    11       977   \n",
              "45207   71    6          0       0     1729       0    0   17    11       456   \n",
              "45208   72    6          1       0     5715       0    0   17    11      1127   \n",
              "45209   57    1          1       0      668       0    0   17    11       508   \n",
              "45210   37    2          1       0     2971       0    0   17    11       361   \n",
              "\n",
              "       campaign  pdays  previous  poutcome  y  \n",
              "0             1     -1         0         3  0  \n",
              "1             1     -1         0         3  0  \n",
              "2             1     -1         0         3  0  \n",
              "3             1     -1         0         3  0  \n",
              "4             1     -1         0         3  0  \n",
              "...         ...    ...       ...       ... ..  \n",
              "45206         3     -1         0         3  1  \n",
              "45207         2     -1         0         3  1  \n",
              "45208         5    184         3         2  1  \n",
              "45209         4     -1         0         3  0  \n",
              "45210         2    188        11         1  0  \n",
              "\n",
              "[45211 rows x 15 columns]"
            ],
            "text/html": [
              "\n",
              "  <div id=\"df-1e9d5049-5d11-4392-b0bc-db62b0529a4a\">\n",
              "    <div class=\"colab-df-container\">\n",
              "      <div>\n",
              "<style scoped>\n",
              "    .dataframe tbody tr th:only-of-type {\n",
              "        vertical-align: middle;\n",
              "    }\n",
              "\n",
              "    .dataframe tbody tr th {\n",
              "        vertical-align: top;\n",
              "    }\n",
              "\n",
              "    .dataframe thead th {\n",
              "        text-align: right;\n",
              "    }\n",
              "</style>\n",
              "<table border=\"1\" class=\"dataframe\">\n",
              "  <thead>\n",
              "    <tr style=\"text-align: right;\">\n",
              "      <th></th>\n",
              "      <th>age</th>\n",
              "      <th>job</th>\n",
              "      <th>education</th>\n",
              "      <th>default</th>\n",
              "      <th>balance</th>\n",
              "      <th>housing</th>\n",
              "      <th>loan</th>\n",
              "      <th>day</th>\n",
              "      <th>month</th>\n",
              "      <th>duration</th>\n",
              "      <th>campaign</th>\n",
              "      <th>pdays</th>\n",
              "      <th>previous</th>\n",
              "      <th>poutcome</th>\n",
              "      <th>y</th>\n",
              "    </tr>\n",
              "  </thead>\n",
              "  <tbody>\n",
              "    <tr>\n",
              "      <th>0</th>\n",
              "      <td>58</td>\n",
              "      <td>4</td>\n",
              "      <td>2</td>\n",
              "      <td>0</td>\n",
              "      <td>2143</td>\n",
              "      <td>1</td>\n",
              "      <td>0</td>\n",
              "      <td>5</td>\n",
              "      <td>5</td>\n",
              "      <td>261</td>\n",
              "      <td>1</td>\n",
              "      <td>-1</td>\n",
              "      <td>0</td>\n",
              "      <td>3</td>\n",
              "      <td>0</td>\n",
              "    </tr>\n",
              "    <tr>\n",
              "      <th>1</th>\n",
              "      <td>44</td>\n",
              "      <td>10</td>\n",
              "      <td>1</td>\n",
              "      <td>0</td>\n",
              "      <td>29</td>\n",
              "      <td>1</td>\n",
              "      <td>0</td>\n",
              "      <td>5</td>\n",
              "      <td>5</td>\n",
              "      <td>151</td>\n",
              "      <td>1</td>\n",
              "      <td>-1</td>\n",
              "      <td>0</td>\n",
              "      <td>3</td>\n",
              "      <td>0</td>\n",
              "    </tr>\n",
              "    <tr>\n",
              "      <th>2</th>\n",
              "      <td>33</td>\n",
              "      <td>2</td>\n",
              "      <td>1</td>\n",
              "      <td>0</td>\n",
              "      <td>2</td>\n",
              "      <td>1</td>\n",
              "      <td>1</td>\n",
              "      <td>5</td>\n",
              "      <td>5</td>\n",
              "      <td>76</td>\n",
              "      <td>1</td>\n",
              "      <td>-1</td>\n",
              "      <td>0</td>\n",
              "      <td>3</td>\n",
              "      <td>0</td>\n",
              "    </tr>\n",
              "    <tr>\n",
              "      <th>3</th>\n",
              "      <td>47</td>\n",
              "      <td>1</td>\n",
              "      <td>3</td>\n",
              "      <td>0</td>\n",
              "      <td>1506</td>\n",
              "      <td>1</td>\n",
              "      <td>0</td>\n",
              "      <td>5</td>\n",
              "      <td>5</td>\n",
              "      <td>92</td>\n",
              "      <td>1</td>\n",
              "      <td>-1</td>\n",
              "      <td>0</td>\n",
              "      <td>3</td>\n",
              "      <td>0</td>\n",
              "    </tr>\n",
              "    <tr>\n",
              "      <th>4</th>\n",
              "      <td>33</td>\n",
              "      <td>5</td>\n",
              "      <td>3</td>\n",
              "      <td>0</td>\n",
              "      <td>1</td>\n",
              "      <td>0</td>\n",
              "      <td>0</td>\n",
              "      <td>5</td>\n",
              "      <td>5</td>\n",
              "      <td>198</td>\n",
              "      <td>1</td>\n",
              "      <td>-1</td>\n",
              "      <td>0</td>\n",
              "      <td>3</td>\n",
              "      <td>0</td>\n",
              "    </tr>\n",
              "    <tr>\n",
              "      <th>...</th>\n",
              "      <td>...</td>\n",
              "      <td>...</td>\n",
              "      <td>...</td>\n",
              "      <td>...</td>\n",
              "      <td>...</td>\n",
              "      <td>...</td>\n",
              "      <td>...</td>\n",
              "      <td>...</td>\n",
              "      <td>...</td>\n",
              "      <td>...</td>\n",
              "      <td>...</td>\n",
              "      <td>...</td>\n",
              "      <td>...</td>\n",
              "      <td>...</td>\n",
              "      <td>...</td>\n",
              "    </tr>\n",
              "    <tr>\n",
              "      <th>45206</th>\n",
              "      <td>51</td>\n",
              "      <td>10</td>\n",
              "      <td>2</td>\n",
              "      <td>0</td>\n",
              "      <td>825</td>\n",
              "      <td>0</td>\n",
              "      <td>0</td>\n",
              "      <td>17</td>\n",
              "      <td>11</td>\n",
              "      <td>977</td>\n",
              "      <td>3</td>\n",
              "      <td>-1</td>\n",
              "      <td>0</td>\n",
              "      <td>3</td>\n",
              "      <td>1</td>\n",
              "    </tr>\n",
              "    <tr>\n",
              "      <th>45207</th>\n",
              "      <td>71</td>\n",
              "      <td>6</td>\n",
              "      <td>0</td>\n",
              "      <td>0</td>\n",
              "      <td>1729</td>\n",
              "      <td>0</td>\n",
              "      <td>0</td>\n",
              "      <td>17</td>\n",
              "      <td>11</td>\n",
              "      <td>456</td>\n",
              "      <td>2</td>\n",
              "      <td>-1</td>\n",
              "      <td>0</td>\n",
              "      <td>3</td>\n",
              "      <td>1</td>\n",
              "    </tr>\n",
              "    <tr>\n",
              "      <th>45208</th>\n",
              "      <td>72</td>\n",
              "      <td>6</td>\n",
              "      <td>1</td>\n",
              "      <td>0</td>\n",
              "      <td>5715</td>\n",
              "      <td>0</td>\n",
              "      <td>0</td>\n",
              "      <td>17</td>\n",
              "      <td>11</td>\n",
              "      <td>1127</td>\n",
              "      <td>5</td>\n",
              "      <td>184</td>\n",
              "      <td>3</td>\n",
              "      <td>2</td>\n",
              "      <td>1</td>\n",
              "    </tr>\n",
              "    <tr>\n",
              "      <th>45209</th>\n",
              "      <td>57</td>\n",
              "      <td>1</td>\n",
              "      <td>1</td>\n",
              "      <td>0</td>\n",
              "      <td>668</td>\n",
              "      <td>0</td>\n",
              "      <td>0</td>\n",
              "      <td>17</td>\n",
              "      <td>11</td>\n",
              "      <td>508</td>\n",
              "      <td>4</td>\n",
              "      <td>-1</td>\n",
              "      <td>0</td>\n",
              "      <td>3</td>\n",
              "      <td>0</td>\n",
              "    </tr>\n",
              "    <tr>\n",
              "      <th>45210</th>\n",
              "      <td>37</td>\n",
              "      <td>2</td>\n",
              "      <td>1</td>\n",
              "      <td>0</td>\n",
              "      <td>2971</td>\n",
              "      <td>0</td>\n",
              "      <td>0</td>\n",
              "      <td>17</td>\n",
              "      <td>11</td>\n",
              "      <td>361</td>\n",
              "      <td>2</td>\n",
              "      <td>188</td>\n",
              "      <td>11</td>\n",
              "      <td>1</td>\n",
              "      <td>0</td>\n",
              "    </tr>\n",
              "  </tbody>\n",
              "</table>\n",
              "<p>45211 rows × 15 columns</p>\n",
              "</div>\n",
              "      <button class=\"colab-df-convert\" onclick=\"convertToInteractive('df-1e9d5049-5d11-4392-b0bc-db62b0529a4a')\"\n",
              "              title=\"Convert this dataframe to an interactive table.\"\n",
              "              style=\"display:none;\">\n",
              "        \n",
              "  <svg xmlns=\"http://www.w3.org/2000/svg\" height=\"24px\"viewBox=\"0 0 24 24\"\n",
              "       width=\"24px\">\n",
              "    <path d=\"M0 0h24v24H0V0z\" fill=\"none\"/>\n",
              "    <path d=\"M18.56 5.44l.94 2.06.94-2.06 2.06-.94-2.06-.94-.94-2.06-.94 2.06-2.06.94zm-11 1L8.5 8.5l.94-2.06 2.06-.94-2.06-.94L8.5 2.5l-.94 2.06-2.06.94zm10 10l.94 2.06.94-2.06 2.06-.94-2.06-.94-.94-2.06-.94 2.06-2.06.94z\"/><path d=\"M17.41 7.96l-1.37-1.37c-.4-.4-.92-.59-1.43-.59-.52 0-1.04.2-1.43.59L10.3 9.45l-7.72 7.72c-.78.78-.78 2.05 0 2.83L4 21.41c.39.39.9.59 1.41.59.51 0 1.02-.2 1.41-.59l7.78-7.78 2.81-2.81c.8-.78.8-2.07 0-2.86zM5.41 20L4 18.59l7.72-7.72 1.47 1.35L5.41 20z\"/>\n",
              "  </svg>\n",
              "      </button>\n",
              "      \n",
              "  <style>\n",
              "    .colab-df-container {\n",
              "      display:flex;\n",
              "      flex-wrap:wrap;\n",
              "      gap: 12px;\n",
              "    }\n",
              "\n",
              "    .colab-df-convert {\n",
              "      background-color: #E8F0FE;\n",
              "      border: none;\n",
              "      border-radius: 50%;\n",
              "      cursor: pointer;\n",
              "      display: none;\n",
              "      fill: #1967D2;\n",
              "      height: 32px;\n",
              "      padding: 0 0 0 0;\n",
              "      width: 32px;\n",
              "    }\n",
              "\n",
              "    .colab-df-convert:hover {\n",
              "      background-color: #E2EBFA;\n",
              "      box-shadow: 0px 1px 2px rgba(60, 64, 67, 0.3), 0px 1px 3px 1px rgba(60, 64, 67, 0.15);\n",
              "      fill: #174EA6;\n",
              "    }\n",
              "\n",
              "    [theme=dark] .colab-df-convert {\n",
              "      background-color: #3B4455;\n",
              "      fill: #D2E3FC;\n",
              "    }\n",
              "\n",
              "    [theme=dark] .colab-df-convert:hover {\n",
              "      background-color: #434B5C;\n",
              "      box-shadow: 0px 1px 3px 1px rgba(0, 0, 0, 0.15);\n",
              "      filter: drop-shadow(0px 1px 2px rgba(0, 0, 0, 0.3));\n",
              "      fill: #FFFFFF;\n",
              "    }\n",
              "  </style>\n",
              "\n",
              "      <script>\n",
              "        const buttonEl =\n",
              "          document.querySelector('#df-1e9d5049-5d11-4392-b0bc-db62b0529a4a button.colab-df-convert');\n",
              "        buttonEl.style.display =\n",
              "          google.colab.kernel.accessAllowed ? 'block' : 'none';\n",
              "\n",
              "        async function convertToInteractive(key) {\n",
              "          const element = document.querySelector('#df-1e9d5049-5d11-4392-b0bc-db62b0529a4a');\n",
              "          const dataTable =\n",
              "            await google.colab.kernel.invokeFunction('convertToInteractive',\n",
              "                                                     [key], {});\n",
              "          if (!dataTable) return;\n",
              "\n",
              "          const docLinkHtml = 'Like what you see? Visit the ' +\n",
              "            '<a target=\"_blank\" href=https://colab.research.google.com/notebooks/data_table.ipynb>data table notebook</a>'\n",
              "            + ' to learn more about interactive tables.';\n",
              "          element.innerHTML = '';\n",
              "          dataTable['output_type'] = 'display_data';\n",
              "          await google.colab.output.renderOutput(dataTable, element);\n",
              "          const docLink = document.createElement('div');\n",
              "          docLink.innerHTML = docLinkHtml;\n",
              "          element.appendChild(docLink);\n",
              "        }\n",
              "      </script>\n",
              "    </div>\n",
              "  </div>\n",
              "  "
            ]
          },
          "metadata": {},
          "execution_count": 20
        }
      ]
    },
    {
      "cell_type": "markdown",
      "source": [
        "# 7. Detection of Outliers"
      ],
      "metadata": {
        "id": "WiGV9zM1euBH"
      }
    },
    {
      "cell_type": "code",
      "source": [
        "# Let's detect whether some outliers are available or not in the dataset.\n",
        "\n",
        "try:\n",
        "\n",
        "  columns = df_PortugueseBank_copy[['age','balance','day','campaign','duration','pdays','previous']]\n",
        "\n",
        "  for column in columns:\n",
        "\n",
        "   n = 0\n",
        "   plt.figure(figsize = (25,25))\n",
        "   plt.subplot(3,3,1)\n",
        "   sns.boxplot(df_PortugueseBank_copy[column])\n",
        "   plt.title(column)\n",
        "   plt.show()\n",
        "   n = n + 1\n",
        "except:\n",
        "  print('The Detection of Outliers')"
      ],
      "metadata": {
        "colab": {
          "base_uri": "https://localhost:8080/",
          "height": 1000
        },
        "id": "ZZ6Hl5HpeYxL",
        "outputId": "999a4218-aedf-4635-f197-af01a32a5049"
      },
      "execution_count": 21,
      "outputs": [
        {
          "output_type": "stream",
          "name": "stderr",
          "text": [
            "/usr/local/lib/python3.8/dist-packages/seaborn/_decorators.py:36: FutureWarning: Pass the following variable as a keyword arg: x. From version 0.12, the only valid positional argument will be `data`, and passing other arguments without an explicit keyword will result in an error or misinterpretation.\n",
            "  warnings.warn(\n"
          ]
        },
        {
          "output_type": "display_data",
          "data": {
            "text/plain": [
              "<Figure size 1800x1800 with 1 Axes>"
            ],
            "image/png": "[encoded data removed]"
          },
          "metadata": {
            "needs_background": "light"
          }
        },
        {
          "output_type": "stream",
          "name": "stderr",
          "text": [
            "/usr/local/lib/python3.8/dist-packages/seaborn/_decorators.py:36: FutureWarning: Pass the following variable as a keyword arg: x. From version 0.12, the only valid positional argument will be `data`, and passing other arguments without an explicit keyword will result in an error or misinterpretation.\n",
            "  warnings.warn(\n"
          ]
        },
        {
          "output_type": "display_data",
          "data": {
            "text/plain": [
              "<Figure size 1800x1800 with 1 Axes>"
            ],
            "image/png": "[encoded data removed]"
          },
          "metadata": {
            "needs_background": "light"
          }
        },
        {
          "output_type": "stream",
          "name": "stderr",
          "text": [
            "/usr/local/lib/python3.8/dist-packages/seaborn/_decorators.py:36: FutureWarning: Pass the following variable as a keyword arg: x. From version 0.12, the only valid positional argument will be `data`, and passing other arguments without an explicit keyword will result in an error or misinterpretation.\n",
            "  warnings.warn(\n"
          ]
        },
        {
          "output_type": "display_data",
          "data": {
            "text/plain": [
              "<Figure size 1800x1800 with 1 Axes>"
            ],
            "image/png": "[encoded data removed]"
          },
          "metadata": {
            "needs_background": "light"
          }
        },
        {
          "output_type": "stream",
          "name": "stderr",
          "text": [
            "/usr/local/lib/python3.8/dist-packages/seaborn/_decorators.py:36: FutureWarning: Pass the following variable as a keyword arg: x. From version 0.12, the only valid positional argument will be `data`, and passing other arguments without an explicit keyword will result in an error or misinterpretation.\n",
            "  warnings.warn(\n"
          ]
        },
        {
          "output_type": "display_data",
          "data": {
            "text/plain": [
              "<Figure size 1800x1800 with 1 Axes>"
            ],
            "image/png": "[encoded data removed]"
          },
          "metadata": {
            "needs_background": "light"
          }
        },
        {
          "output_type": "stream",
          "name": "stderr",
          "text": [
            "/usr/local/lib/python3.8/dist-packages/seaborn/_decorators.py:36: FutureWarning: Pass the following variable as a keyword arg: x. From version 0.12, the only valid positional argument will be `data`, and passing other arguments without an explicit keyword will result in an error or misinterpretation.\n",
            "  warnings.warn(\n"
          ]
        },
        {
          "output_type": "display_data",
          "data": {
            "text/plain": [
              "<Figure size 1800x1800 with 1 Axes>"
            ],
            "image/png": "[encoded data removed]"
          },
          "metadata": {
            "needs_background": "light"
          }
        },
        {
          "output_type": "stream",
          "name": "stderr",
          "text": [
            "/usr/local/lib/python3.8/dist-packages/seaborn/_decorators.py:36: FutureWarning: Pass the following variable as a keyword arg: x. From version 0.12, the only valid positional argument will be `data`, and passing other arguments without an explicit keyword will result in an error or misinterpretation.\n",
            "  warnings.warn(\n"
          ]
        },
        {
          "output_type": "display_data",
          "data": {
            "text/plain": [
              "<Figure size 1800x1800 with 1 Axes>"
            ],
            "image/png": "[encoded data removed]"
          },
          "metadata": {
            "needs_background": "light"
          }
        },
        {
          "output_type": "stream",
          "name": "stderr",
          "text": [
            "/usr/local/lib/python3.8/dist-packages/seaborn/_decorators.py:36: FutureWarning: Pass the following variable as a keyword arg: x. From version 0.12, the only valid positional argument will be `data`, and passing other arguments without an explicit keyword will result in an error or misinterpretation.\n",
            "  warnings.warn(\n"
          ]
        },
        {
          "output_type": "display_data",
          "data": {
            "text/plain": [
              "<Figure size 1800x1800 with 1 Axes>"
            ],
            "image/png": "[encoded data removed]"
          },
          "metadata": {
            "needs_background": "light"
          }
        }
      ]
    },
    {
      "cell_type": "markdown",
      "source": [
        "From above boxplots, it is evident that outliers are existing in the dataset. Those outliers will have to be removed as far as the data cleaning is concerned because data cleaning will play a crucial role in providing a better accuracy of any model.\n",
        "\n",
        "z-score is one of the methods by which outliers will be removed from dataset. Let's do it then."
      ],
      "metadata": {
        "id": "UStxTuxDhBOj"
      }
    },
    {
      "cell_type": "code",
      "source": [
        "# Let's implement z-score to remove outliers.\n",
        "\n",
        "from scipy import stats\n",
        "z = np.abs(stats.zscore(df_PortugueseBank_copy[['age','balance','day','campaign','duration','pdays','previous']]))\n",
        "print(z)\n",
        "df_PortugueseBank_copy = df_PortugueseBank_copy[(z < 3).all(axis = 1)]\n",
        "df_PortugueseBank_copy.shape"
      ],
      "metadata": {
        "colab": {
          "base_uri": "https://localhost:8080/"
        },
        "id": "0T8Et2eqgOgY",
        "outputId": "f85982d0-f8b8-4299-e7e5-43218a2a4079"
      },
      "execution_count": 22,
      "outputs": [
        {
          "output_type": "stream",
          "name": "stdout",
          "text": [
            "            age   balance       day  campaign  duration     pdays  previous\n",
            "0      1.606965  0.256419  1.298476  0.569351  0.011016  0.411453  0.251940\n",
            "1      0.288529  0.437895  1.298476  0.569351  0.416127  0.411453  0.251940\n",
            "2      0.747384  0.446762  1.298476  0.569351  0.707361  0.411453  0.251940\n",
            "3      0.571051  0.047205  1.298476  0.569351  0.645231  0.411453  0.251940\n",
            "4      0.747384  0.447091  1.298476  0.569351  0.233620  0.411453  0.251940\n",
            "...         ...       ...       ...       ...       ...       ...       ...\n",
            "45206  0.947747  0.176460  0.143418  0.076230  2.791329  0.411453  0.251940\n",
            "45207  2.831227  0.120447  0.143418  0.246560  0.768224  0.411453  0.251940\n",
            "45208  2.925401  1.429593  0.143418  0.721811  3.373797  1.436189  1.050473\n",
            "45209  1.512791  0.228024  0.143418  0.399020  0.970146  0.411453  0.251940\n",
            "45210  0.370689  0.528364  0.143418  0.246560  0.399328  1.476138  4.523577\n",
            "\n",
            "[45211 rows x 7 columns]\n"
          ]
        },
        {
          "output_type": "execute_result",
          "data": {
            "text/plain": [
              "(40209, 15)"
            ]
          },
          "metadata": {},
          "execution_count": 22
        }
      ]
    },
    {
      "cell_type": "code",
      "source": [
        "# Checking whether the outliers are removed or not in reality.\n",
        "\n",
        "plt.figure(figsize = (20,16))\n",
        "plt.subplot(2,2,1)\n",
        "sns.boxplot(df_PortugueseBank_copy['age'])\n",
        "plt.title('Age')\n",
        "plt.show()"
      ],
      "metadata": {
        "colab": {
          "base_uri": "https://localhost:8080/",
          "height": 530
        },
        "id": "BomdSkm3mEf7",
        "outputId": "27370038-a36e-430d-d3cc-6d346bd12896"
      },
      "execution_count": 23,
      "outputs": [
        {
          "output_type": "stream",
          "name": "stderr",
          "text": [
            "/usr/local/lib/python3.8/dist-packages/seaborn/_decorators.py:36: FutureWarning: Pass the following variable as a keyword arg: x. From version 0.12, the only valid positional argument will be `data`, and passing other arguments without an explicit keyword will result in an error or misinterpretation.\n",
            "  warnings.warn(\n"
          ]
        },
        {
          "output_type": "display_data",
          "data": {
            "text/plain": [
              "<Figure size 1440x1152 with 1 Axes>"
            ],
            "image/png": "[encoded data removed]"
          },
          "metadata": {
            "needs_background": "light"
          }
        }
      ]
    },
    {
      "cell_type": "markdown",
      "source": [
        "It seems that the outliers have been outcast of the boxplot society."
      ],
      "metadata": {
        "id": "i2N_fyB7KPKi"
      }
    },
    {
      "cell_type": "markdown",
      "source": [
        "# 8. The Separation of Independent and Dependent Variable"
      ],
      "metadata": {
        "id": "Yc90_f6JnJ0-"
      }
    },
    {
      "cell_type": "code",
      "source": [
        "# Defining x and y axis as independent and dependent variable respectively.\n",
        "\n",
        "x = df_PortugueseBank_copy.drop(['y'], axis = 1) # Dropping off 'y' column as it is the dependent variable and the rest all independent variables are existing.\n",
        "\n",
        "y = df_PortugueseBank_copy['y'] # As 'y' being the dependent or outpouyt varaiable in the dataset.\n",
        "\n",
        "df_PortugueseBank_copy['y'].value_counts()"
      ],
      "metadata": {
        "colab": {
          "base_uri": "https://localhost:8080/"
        },
        "id": "2iJVdNg8mru4",
        "outputId": "d8593ad4-46a6-4e37-9cbe-521a5af0975a"
      },
      "execution_count": 27,
      "outputs": [
        {
          "output_type": "execute_result",
          "data": {
            "text/plain": [
              "0    36155\n",
              "1     4054\n",
              "Name: y, dtype: int64"
            ]
          },
          "metadata": {},
          "execution_count": 27
        }
      ]
    },
    {
      "cell_type": "markdown",
      "source": [
        "# 9. Handling Imbalanced Dataset"
      ],
      "metadata": {
        "id": "5QDfvjGEoVLF"
      }
    },
    {
      "cell_type": "code",
      "source": [
        "# By using countplot, imbalanced dataset will be handled.\n",
        "\n",
        "sns.countplot(x = 'y', data = df_PortugueseBank_copy)"
      ],
      "metadata": {
        "colab": {
          "base_uri": "https://localhost:8080/",
          "height": 297
        },
        "id": "zxT0qD0IoQWZ",
        "outputId": "12b6a18b-4d51-41a5-b2a9-28e84d187aa9"
      },
      "execution_count": 28,
      "outputs": [
        {
          "output_type": "execute_result",
          "data": {
            "text/plain": [
              "<matplotlib.axes._subplots.AxesSubplot at 0x7fc16809c490>"
            ]
          },
          "metadata": {},
          "execution_count": 28
        },
        {
          "output_type": "display_data",
          "data": {
            "text/plain": [
              "<Figure size 432x288 with 1 Axes>"
            ],
            "image/png": "[encoded data removed]"
          },
          "metadata": {
            "needs_background": "light"
          }
        }
      ]
    },
    {
      "cell_type": "markdown",
      "source": [
        "The definition of imbalanced data says that when observation in one class is higher than in other classes then it can be said that there exists a class imbalance. And it is not obscure from the above graph that there exists a huge difference between the dataset.\n",
        "\n",
        "To sort out this issue, re-sampling technique will be utilised."
      ],
      "metadata": {
        "id": "Gt0IC3zRo5xj"
      }
    },
    {
      "cell_type": "markdown",
      "source": [
        "# 9.1 Random Over-Sampling Technique\n",
        "\n",
        "This technique can be defined as adding more copies to the minority class."
      ],
      "metadata": {
        "id": "oDGOUaOe41zF"
      }
    },
    {
      "cell_type": "code",
      "source": [
        "# Let's implement Random Over-Sampling technique first to handle imbalanced dataset.\n",
        "\n",
        "from imblearn.over_sampling import RandomOverSampler\n",
        "os = RandomOverSampler()\n",
        "x_new, y_new = os.fit_resample(x,y)"
      ],
      "metadata": {
        "id": "BdeTzSQPot10"
      },
      "execution_count": 29,
      "outputs": []
    },
    {
      "cell_type": "code",
      "source": [
        "from collections import Counter\n",
        "print('The shape of the original dataset is :  {}'.format(Counter(y)))\n",
        "print('The shape of the resampled dataset is :  {}'.format(Counter(y_new)))\n",
        "sns.countplot(y_new)"
      ],
      "metadata": {
        "colab": {
          "base_uri": "https://localhost:8080/",
          "height": 391
        },
        "id": "7EyN5c546Fn2",
        "outputId": "ecefc1c2-70ea-42b0-a11b-13e3999461be"
      },
      "execution_count": 30,
      "outputs": [
        {
          "output_type": "stream",
          "name": "stdout",
          "text": [
            "The shape of the original dataset is :  Counter({0: 36155, 1: 4054})\n",
            "The shape of the resampled dataset is :  Counter({0: 36155, 1: 36155})\n"
          ]
        },
        {
          "output_type": "stream",
          "name": "stderr",
          "text": [
            "/usr/local/lib/python3.8/dist-packages/seaborn/_decorators.py:36: FutureWarning: Pass the following variable as a keyword arg: x. From version 0.12, the only valid positional argument will be `data`, and passing other arguments without an explicit keyword will result in an error or misinterpretation.\n",
            "  warnings.warn(\n"
          ]
        },
        {
          "output_type": "execute_result",
          "data": {
            "text/plain": [
              "<matplotlib.axes._subplots.AxesSubplot at 0x7fc1681e4760>"
            ]
          },
          "metadata": {},
          "execution_count": 30
        },
        {
          "output_type": "display_data",
          "data": {
            "text/plain": [
              "<Figure size 432x288 with 1 Axes>"
            ],
            "image/png": "[encoded data removed]"
          },
          "metadata": {
            "needs_background": "light"
          }
        }
      ]
    },
    {
      "cell_type": "code",
      "source": [
        "from sklearn.model_selection import train_test_split\n",
        "from sklearn.model_selection import cross_val_score\n",
        "from sklearn.metrics import accuracy_score, classification_report, confusion_matrix, roc_auc_score\n",
        "\n",
        "# Dividing the dataset into training and testing part.\n",
        "Xtrain, Xtest, ytrain, ytest = train_test_split(x_new, y_new, test_size = 0.30, random_state = 0)\n",
        "print(Xtrain.shape, Xtest.shape, ytrain.shape, ytest.shape)\n",
        "\n",
        "# Feature Scaling\n",
        "from sklearn.preprocessing import StandardScaler\n",
        "scaler = StandardScaler()\n",
        "Xtrain = scaler.fit_transform(Xtrain)\n",
        "Xtest = scaler.transform(Xtest)\n"
      ],
      "metadata": {
        "colab": {
          "base_uri": "https://localhost:8080/"
        },
        "id": "M6dW5C3j7sbJ",
        "outputId": "e1ddd446-72a0-4a44-e602-18fbc5fa637f"
      },
      "execution_count": 31,
      "outputs": [
        {
          "output_type": "stream",
          "name": "stdout",
          "text": [
            "(50617, 14) (21693, 14) (50617,) (21693,)\n"
          ]
        }
      ]
    },
    {
      "cell_type": "markdown",
      "source": [
        "# Random Forest Classifier"
      ],
      "metadata": {
        "id": "ezWqcdEBIBRs"
      }
    },
    {
      "cell_type": "code",
      "source": [
        "# Implementation of Random Forest Classifier\n",
        "\n",
        "from sklearn.metrics import precision_score, recall_score, accuracy_score, f1_score, roc_auc_score\n",
        "# Importing Random Forest Classifier from sklearn.\n",
        "from sklearn.ensemble import RandomForestClassifier\n",
        "randomforestclassifier = RandomForestClassifier()\n",
        "randomforestclassifier.fit(Xtrain, ytrain)\n",
        "y_pred = randomforestclassifier.predict(Xtest)\n",
        "\n",
        "ROCAUC_rf = roc_auc_score(y_pred, ytest)\n",
        "precision_rf = precision_score(y_pred, ytest)\n",
        "recall_rf = recall_score(y_pred, ytest)\n",
        "accuracy_rf = accuracy_score(y_pred, ytest)\n",
        "f1score_rf = f1_score(y_pred, ytest)\n",
        "print('ROC AUC Score: ', ROCAUC_rf)\n",
        "\n",
        "cm = confusion_matrix(y_pred, ytest)\n",
        "print(cm)\n",
        "\n",
        "sns.heatmap(cm, annot = True)\n",
        "\n",
        "# Printing the classification report \n",
        "print(classification_report(y_pred, ytest))\n"
      ],
      "metadata": {
        "colab": {
          "base_uri": "https://localhost:8080/",
          "height": 486
        },
        "id": "LFHCLLRBIEGQ",
        "outputId": "7cae3e0a-3588-472d-8c2e-f2b1753727e5"
      },
      "execution_count": 32,
      "outputs": [
        {
          "output_type": "stream",
          "name": "stdout",
          "text": [
            "ROC AUC Score:  0.9743859412290318\n",
            "[[10217    11]\n",
            " [  575 10890]]\n",
            "              precision    recall  f1-score   support\n",
            "\n",
            "           0       0.95      1.00      0.97     10228\n",
            "           1       1.00      0.95      0.97     11465\n",
            "\n",
            "    accuracy                           0.97     21693\n",
            "   macro avg       0.97      0.97      0.97     21693\n",
            "weighted avg       0.97      0.97      0.97     21693\n",
            "\n"
          ]
        },
        {
          "output_type": "display_data",
          "data": {
            "text/plain": [
              "<Figure size 432x288 with 2 Axes>"
            ],
            "image/png": "[encoded data removed]"
          },
          "metadata": {
            "needs_background": "light"
          }
        }
      ]
    },
    {
      "cell_type": "markdown",
      "source": [
        "# 9.2 SMOTETomek Technique"
      ],
      "metadata": {
        "id": "DSh0I8RDEVjV"
      }
    },
    {
      "cell_type": "code",
      "source": [
        "from imblearn.combine import SMOTETomek\n",
        "os1 = SMOTETomek(0.75)\n",
        "x_new, y_new = os1.fit_resample(x,y)\n",
        "\n",
        "from sklearn.model_selection import train_test_split\n",
        "from sklearn.model_selection import cross_val_score\n",
        "from sklearn.metrics import precision_score, recall_score, accuracy_score, f1_score, roc_auc_score\n",
        "\n",
        "# Dividing the dataset into training and testing\n",
        "Xtrain, Xtest, ytrain, ytest = train_test_split(x_new, y_new, test_size = 0.30, random_state = 0)\n",
        "print(Xtrain.shape, Xtest.shape, ytrain.shape, ytest.shape)\n",
        "\n",
        "#Featrure Scaling\n",
        "from sklearn.preprocessing import StandardScaler\n",
        "scaler = StandardScaler()\n",
        "Xtrain = scaler.fit_transform(Xtrain)\n",
        "Xtest = scaler.transform(Xtest)\n"
      ],
      "metadata": {
        "colab": {
          "base_uri": "https://localhost:8080/"
        },
        "id": "4cNUVg0vCvJq",
        "outputId": "794178f9-6a1f-4e1f-9c9d-8aa19dfeebb9"
      },
      "execution_count": 33,
      "outputs": [
        {
          "output_type": "stream",
          "name": "stderr",
          "text": [
            "/usr/local/lib/python3.8/dist-packages/imblearn/utils/_validation.py:587: FutureWarning: Pass sampling_strategy=0.75 as keyword args. From version 0.9 passing these as positional arguments will result in an error\n",
            "  warnings.warn(\n"
          ]
        },
        {
          "output_type": "stream",
          "name": "stdout",
          "text": [
            "(43194, 14) (18513, 14) (43194,) (18513,)\n"
          ]
        }
      ]
    },
    {
      "cell_type": "code",
      "source": [
        "# Implementing Random Forest algorithm in SMOTE analysis\n",
        "from sklearn.ensemble import RandomForestClassifier\n",
        "randomforestclassifier = RandomForestClassifier()\n",
        "randomforestclassifier.fit(Xtrain, ytrain)\n",
        "y_pred = randomforestclassifier.predict(Xtest)\n",
        "\n",
        "ROCAUC_rf = roc_auc_score(y_pred, ytest)\n",
        "precision_rf = precision_score(y_pred, ytest)\n",
        "recall_rf = recall_score(y_pred, ytest)\n",
        "accuracy_rf = accuracy_score(y_pred, ytest)\n",
        "f1score_rf = f1_score(y_pred, ytest)\n",
        "print('ROC AUC Score: ', ROCAUC_rf)\n",
        "\n",
        "cm = confusion_matrix(y_pred, ytest)\n",
        "print(cm)\n",
        "\n",
        "sns.heatmap(cm, annot = True)\n",
        "\n",
        "# Printing the classification report\n",
        "print(classification_report(y_pred, ytest))\n"
      ],
      "metadata": {
        "colab": {
          "base_uri": "https://localhost:8080/",
          "height": 486
        },
        "id": "0J8BIohfbg-9",
        "outputId": "7ede345d-ccae-4823-c751-7e8c0ed355f3"
      },
      "execution_count": 34,
      "outputs": [
        {
          "output_type": "stream",
          "name": "stdout",
          "text": [
            "ROC AUC Score:  0.9391243332780097\n",
            "[[9933  513]\n",
            " [ 586 7481]]\n",
            "              precision    recall  f1-score   support\n",
            "\n",
            "           0       0.94      0.95      0.95     10446\n",
            "           1       0.94      0.93      0.93      8067\n",
            "\n",
            "    accuracy                           0.94     18513\n",
            "   macro avg       0.94      0.94      0.94     18513\n",
            "weighted avg       0.94      0.94      0.94     18513\n",
            "\n"
          ]
        },
        {
          "output_type": "display_data",
          "data": {
            "text/plain": [
              "<Figure size 432x288 with 2 Axes>"
            ],
            "image/png": "[encoded data removed]"
          },
          "metadata": {
            "needs_background": "light"
          }
        }
      ]
    },
    {
      "cell_type": "markdown",
      "source": [
        "# 9.3 Under Sampling Technique"
      ],
      "metadata": {
        "id": "jCEvEKc8iycq"
      }
    },
    {
      "cell_type": "code",
      "source": [
        "from imblearn.under_sampling import NearMiss\n",
        "os2 = NearMiss(0.7)\n",
        "x_new, y_new = os2.fit_resample(x,y)\n",
        "\n",
        "from sklearn.model_selection import train_test_split\n",
        "from sklearn.model_selection import cross_val_score\n",
        "from sklearn.metrics import precision_score, recall_score, accuracy_score, f1_score, roc_auc_score\n",
        "\n",
        "# Dividing the dataset into training and testing part\n",
        "Xtrain, Xtest, ytrain, ytest = train_test_split(x_new, y_new, test_size = 0.30, random_state = 0)\n",
        "print(Xtrain.shape, Xtest.shape, ytrain.shape, ytest.shape)\n",
        "\n",
        "# Feature Scaling\n",
        "from sklearn.preprocessing import StandardScaler\n",
        "scaler = StandardScaler()\n",
        "Xtrain = scaler.fit_transform(Xtrain)\n",
        "Xtest = scaler.transform(Xtest)"
      ],
      "metadata": {
        "colab": {
          "base_uri": "https://localhost:8080/"
        },
        "id": "a_wM9qcOh_oX",
        "outputId": "366ea48c-5f1c-4e2c-b740-07f3c04f64cb"
      },
      "execution_count": 35,
      "outputs": [
        {
          "output_type": "stream",
          "name": "stderr",
          "text": [
            "/usr/local/lib/python3.8/dist-packages/imblearn/utils/_validation.py:587: FutureWarning: Pass sampling_strategy=0.7 as keyword args. From version 0.9 passing these as positional arguments will result in an error\n",
            "  warnings.warn(\n"
          ]
        },
        {
          "output_type": "stream",
          "name": "stdout",
          "text": [
            "(6891, 14) (2954, 14) (6891,) (2954,)\n"
          ]
        }
      ]
    },
    {
      "cell_type": "code",
      "source": [
        "# Implementing Random Forest algorithm in case of Under Sampling\n",
        "\n",
        "from sklearn.ensemble import RandomForestClassifier\n",
        "randomforestclassifier = RandomForestClassifier()\n",
        "randomforestclassifier.fit(Xtrain, ytrain)\n",
        "y_pred = randomforestclassifier.predict(Xtest)\n",
        "\n",
        "ROCAUC_rf = roc_auc_score(y_pred, ytest)\n",
        "precision_rf = precision_score(y_pred, ytest)\n",
        "recall_rf = recall_score(y_pred, ytest)\n",
        "accuracy_rf = accuracy_score(y_pred, ytest)\n",
        "f1score_rf = f1_score(y_pred, ytest)\n",
        "print('ROC AUC Score: ', ROCAUC_rf)\n",
        "\n",
        "cm = confusion_matrix(y_pred, ytest)\n",
        "print(cm)\n",
        "\n",
        "sns.heatmap(cm, annot = True)\n",
        "\n",
        "# Printing the classification report\n",
        "print(classification_report(y_pred, ytest))"
      ],
      "metadata": {
        "colab": {
          "base_uri": "https://localhost:8080/",
          "height": 486
        },
        "id": "hYd8vYV9lyt9",
        "outputId": "fc80900f-59ce-46f7-ed24-2f3841519ef2"
      },
      "execution_count": 36,
      "outputs": [
        {
          "output_type": "stream",
          "name": "stdout",
          "text": [
            "ROC AUC Score:  0.902125251235316\n",
            "[[1635  180]\n",
            " [ 110 1029]]\n",
            "              precision    recall  f1-score   support\n",
            "\n",
            "           0       0.94      0.90      0.92      1815\n",
            "           1       0.85      0.90      0.88      1139\n",
            "\n",
            "    accuracy                           0.90      2954\n",
            "   macro avg       0.89      0.90      0.90      2954\n",
            "weighted avg       0.90      0.90      0.90      2954\n",
            "\n"
          ]
        },
        {
          "output_type": "display_data",
          "data": {
            "text/plain": [
              "<Figure size 432x288 with 2 Axes>"
            ],
            "image/png": "[encoded data removed]"
          },
          "metadata": {
            "needs_background": "light"
          }
        }
      ]
    },
    {
      "cell_type": "markdown",
      "source": [
        "# 10. Application of Different Classification Algorithms\n",
        "\n",
        "Now, let's apply different classification algorithms for the analysis of the banking dataset to see which algorithm provides the best accuracy. I am going to implement Logistic Regression, Random Forest, K Nearest Neighbors, Decision Tree, SVM, Naive Bayes, XGBoost to see which algoirtm gives the best accuracy as far as the datanalysis of the banking dataset is concerned."
      ],
      "metadata": {
        "id": "UcU6kvUmmkzJ"
      }
    },
    {
      "cell_type": "markdown",
      "source": [
        "# 10.1 Logistic Regression"
      ],
      "metadata": {
        "id": "AvSYHpkruvOa"
      }
    },
    {
      "cell_type": "code",
      "source": [
        "# Let's see how much accuracy Logistic Regression provides.\n",
        "\n",
        "from sklearn.linear_model import LogisticRegression\n",
        "from sklearn.metrics import precision_score, recall_score, accuracy_score, f1_score, roc_auc_score\n",
        "\n",
        "logisticmodel = LogisticRegression()\n",
        "logisticmodel.fit(Xtrain, ytrain)\n",
        "y_pred = logisticmodel.predict(Xtest)\n",
        "\n",
        "precision_lr = precision_score(y_pred, ytest)\n",
        "recall_lr = recall_score(y_pred, ytest)\n",
        "accuracy_lr = accuracy_score(y_pred, ytest)\n",
        "f1score_lr = f1_score(y_pred, ytest)\n",
        "ROCAUC_lr = roc_auc_score(y_pred, ytest)\n",
        "\n",
        "print('Train Score : \\n')\n",
        "print(logisticmodel.score(Xtrain, ytrain))\n",
        "\n",
        "print('*********************************')\n",
        "\n",
        "print('ROC-AUC score : ', ROCAUC_lr)\n",
        "\n",
        "cm = confusion_matrix(y_pred, ytest)\n",
        "print(cm)\n",
        "sns.heatmap(cm, annot = True)\n",
        "\n",
        "print('Test Score : \\n')\n",
        "print(classification_report(y_pred, ytest))"
      ],
      "metadata": {
        "colab": {
          "base_uri": "https://localhost:8080/",
          "height": 599
        },
        "id": "b56u3yRNmTzt",
        "outputId": "734a8916-4dc9-40e0-f9e7-c3ddaffcbe68"
      },
      "execution_count": 38,
      "outputs": [
        {
          "output_type": "stream",
          "name": "stdout",
          "text": [
            "Train Score : \n",
            "\n",
            "0.8757800029023364\n",
            "*********************************\n",
            "ROC AUC score :  0.8741496598639455\n",
            "[[1615  247]\n",
            " [ 130  962]]\n",
            "Test Score : \n",
            "\n",
            "              precision    recall  f1-score   support\n",
            "\n",
            "           0       0.93      0.87      0.90      1862\n",
            "           1       0.80      0.88      0.84      1092\n",
            "\n",
            "    accuracy                           0.87      2954\n",
            "   macro avg       0.86      0.87      0.87      2954\n",
            "weighted avg       0.88      0.87      0.87      2954\n",
            "\n"
          ]
        },
        {
          "output_type": "display_data",
          "data": {
            "text/plain": [
              "<Figure size 432x288 with 2 Axes>"
            ],
            "image/png": "[encoded data removed]"
          },
          "metadata": {
            "needs_background": "light"
          }
        }
      ]
    },
    {
      "cell_type": "markdown",
      "source": [
        "# 10.2 Random Forest"
      ],
      "metadata": {
        "id": "8HlsptuuzQ7k"
      }
    },
    {
      "cell_type": "code",
      "source": [
        "# Let's see how much accuracy Random Forest algorithm provides.\n",
        "\n",
        "from sklearn.ensemble import RandomForestClassifier\n",
        "\n",
        "randomforest = RandomForestClassifier()\n",
        "randomforest.fit(Xtrain, ytrain)\n",
        "y_pred = randomforest.predict(Xtest)\n",
        "\n",
        "precision_rf = precision_score(y_pred, ytest)\n",
        "recall_rf = recall_score(y_pred, ytest)\n",
        "accuracy_rf = accuracy_score(y_pred, ytest)\n",
        "f1score_rf = f1_score(y_pred, ytest)\n",
        "ROCAUC_rf = roc_auc_score(y_pred, ytest)\n",
        "\n",
        "print('Train Score : \\n')\n",
        "print(randomforest.score(Xtrain, ytrain))\n",
        "\n",
        "print('*********************************')\n",
        "\n",
        "print('ROC-AUC score : ', ROCAUC_rf)\n",
        "\n",
        "cm = confusion_matrix(y_pred, ytest)\n",
        "print(cm)\n",
        "sns.heatmap(cm, annot = True)\n",
        "\n",
        "print(classification_report(y_pred, ytest))"
      ],
      "metadata": {
        "colab": {
          "base_uri": "https://localhost:8080/",
          "height": 560
        },
        "id": "DOlA9LLczGPg",
        "outputId": "624897b5-99ff-43f5-8c04-f296dea5fce8"
      },
      "execution_count": 39,
      "outputs": [
        {
          "output_type": "stream",
          "name": "stdout",
          "text": [
            "Train Score : \n",
            "\n",
            "1.0\n",
            "*********************************\n",
            "ROC AUC score :  0.9064337596105552\n",
            "[[1639  171]\n",
            " [ 106 1038]]\n",
            "              precision    recall  f1-score   support\n",
            "\n",
            "           0       0.94      0.91      0.92      1810\n",
            "           1       0.86      0.91      0.88      1144\n",
            "\n",
            "    accuracy                           0.91      2954\n",
            "   macro avg       0.90      0.91      0.90      2954\n",
            "weighted avg       0.91      0.91      0.91      2954\n",
            "\n"
          ]
        },
        {
          "output_type": "display_data",
          "data": {
            "text/plain": [
              "<Figure size 432x288 with 2 Axes>"
            ],
            "image/png": "[encoded data removed]"
          },
          "metadata": {
            "needs_background": "light"
          }
        }
      ]
    },
    {
      "cell_type": "markdown",
      "source": [
        "# 10.3 K Nearest Neighbors"
      ],
      "metadata": {
        "id": "9iTN7Pd52slg"
      }
    },
    {
      "cell_type": "code",
      "source": [
        "# Let's see how much accuracy K Nearest Neighbors algorithm provides.\n",
        "\n",
        "from sklearn.neighbors import KNeighborsClassifier\n",
        "\n",
        "knn = KNeighborsClassifier()\n",
        "knn.fit(Xtrain, ytrain)\n",
        "y_pred = knn.predict(Xtest)\n",
        "\n",
        "precision_knn = precision_score(y_pred, ytest)\n",
        "recall_knn = recall_score(y_pred, ytest)\n",
        "accuracy_knn = accuracy_score(y_pred, ytest)\n",
        "f1score_knn = f1_score(y_pred, ytest)\n",
        "ROCAUC_knn = roc_auc_score(y_pred, ytest)\n",
        "\n",
        "print('Train Score : \\n')\n",
        "print(knn.score(Xtrain, ytrain))\n",
        "\n",
        "print('*********************************')\n",
        "\n",
        "print('ROC-AUC score : ', ROCAUC_knn)\n",
        "\n",
        "cm = confusion_matrix(y_pred, ytest)\n",
        "print(cm)\n",
        "sns.heatmap(cm, annot = True)\n",
        "\n",
        "print(classification_report(y_pred, ytest))"
      ],
      "metadata": {
        "colab": {
          "base_uri": "https://localhost:8080/",
          "height": 561
        },
        "id": "BOACXa242YvA",
        "outputId": "40b9de7a-d662-40ff-94b9-416bcffd8890"
      },
      "execution_count": 40,
      "outputs": [
        {
          "output_type": "stream",
          "name": "stdout",
          "text": [
            "Train Score : \n",
            "\n",
            "0.9032070817007691\n",
            "*********************************\n",
            "ROC AUC score :  0.8621741013862024\n",
            "[[1621  299]\n",
            " [ 124  910]]\n",
            "              precision    recall  f1-score   support\n",
            "\n",
            "           0       0.93      0.84      0.88      1920\n",
            "           1       0.75      0.88      0.81      1034\n",
            "\n",
            "    accuracy                           0.86      2954\n",
            "   macro avg       0.84      0.86      0.85      2954\n",
            "weighted avg       0.87      0.86      0.86      2954\n",
            "\n"
          ]
        },
        {
          "output_type": "display_data",
          "data": {
            "text/plain": [
              "<Figure size 432x288 with 2 Axes>"
            ],
            "image/png": "[encoded data removed]"
          },
          "metadata": {
            "needs_background": "light"
          }
        }
      ]
    },
    {
      "cell_type": "markdown",
      "source": [
        "# 10.4 Decision Tree"
      ],
      "metadata": {
        "id": "Bl6yEJKI8O49"
      }
    },
    {
      "cell_type": "code",
      "source": [
        "# Now let's have a look how much accuracy can be provided by Decision Tree algorithm.\n",
        "\n",
        "from sklearn.tree import DecisionTreeClassifier\n",
        "\n",
        "decisiontree = DecisionTreeClassifier()\n",
        "decisiontree.fit(Xtrain, ytrain)\n",
        "y_pred = decisiontree.predict(Xtest)\n",
        "\n",
        "precision_dt = precision_score(y_pred, ytest)\n",
        "recall_dt = recall_score(y_pred, ytest)\n",
        "accuracy_dt = accuracy_score(y_pred, ytest)\n",
        "f1score_dt = f1_score(y_pred, ytest)\n",
        "ROCAUC_dt = roc_auc_score(y_pred, ytest)\n",
        "\n",
        "print('Train Score : \\n')\n",
        "print(decisiontree.score(Xtrain, ytrain))\n",
        "\n",
        "print('*********************************')\n",
        "\n",
        "print('ROC-AUC score : ', ROCAUC_dt)\n",
        "\n",
        "cm = confusion_matrix(y_pred, ytest)\n",
        "print(cm)\n",
        "sns.heatmap(cm, annot = True)\n",
        "\n",
        "print(classification_report(y_pred, ytest))\n"
      ],
      "metadata": {
        "colab": {
          "base_uri": "https://localhost:8080/",
          "height": 560
        },
        "id": "Ee38UYU95X9Z",
        "outputId": "7333225a-d479-42a8-fb64-de0bfeef37dc"
      },
      "execution_count": 41,
      "outputs": [
        {
          "output_type": "stream",
          "name": "stdout",
          "text": [
            "Train Score : \n",
            "\n",
            "1.0\n",
            "*********************************\n",
            "ROC AUC score :  0.8650082800365464\n",
            "[[1559  201]\n",
            " [ 186 1008]]\n",
            "              precision    recall  f1-score   support\n",
            "\n",
            "           0       0.89      0.89      0.89      1760\n",
            "           1       0.83      0.84      0.84      1194\n",
            "\n",
            "    accuracy                           0.87      2954\n",
            "   macro avg       0.86      0.87      0.86      2954\n",
            "weighted avg       0.87      0.87      0.87      2954\n",
            "\n"
          ]
        },
        {
          "output_type": "display_data",
          "data": {
            "text/plain": [
              "<Figure size 432x288 with 2 Axes>"
            ],
            "image/png": "[encoded data removed]"
          },
          "metadata": {
            "needs_background": "light"
          }
        }
      ]
    },
    {
      "cell_type": "markdown",
      "source": [
        "# 10.5 SVM( Support Vector Machine)"
      ],
      "metadata": {
        "id": "GAFrukly_duM"
      }
    },
    {
      "cell_type": "code",
      "source": [
        "# Now, it's the time to apply Supprt Vector Machine algorithm. Let's see how it goes.\n",
        "\n",
        "from sklearn.svm import SVC\n",
        "\n",
        "SVM = SVC(probability = True)\n",
        "SVM.fit(Xtrain, ytrain)\n",
        "y_pred = SVM.predict(Xtest)\n",
        "\n",
        "precision_SVM = precision_score(y_pred, ytest)\n",
        "recall_SVM = recall_score(y_pred, ytest)\n",
        "accuracy_SVM = accuracy_score(y_pred, ytest)\n",
        "f1score_SVM = f1_score(y_pred, ytest)\n",
        "ROCAUC_SVM = roc_auc_score(y_pred, ytest)\n",
        "\n",
        "print('Train Score : \\n')\n",
        "print(SVM.score(Xtrain, ytrain))\n",
        "\n",
        "print('*********************************')\n",
        "\n",
        "print('ROC-AUC score : ', ROCAUC_SVM)\n",
        "\n",
        "cm = confusion_matrix(y_pred, ytest)\n",
        "print(cm)\n",
        "sns.heatmap(cm, annot = True)\n",
        "\n",
        "print(classification_report(y_pred, ytest))\n"
      ],
      "metadata": {
        "colab": {
          "base_uri": "https://localhost:8080/",
          "height": 560
        },
        "id": "ZuColAgu_aMF",
        "outputId": "a7b7455b-a7cd-4ae8-c539-ece380bddd97"
      },
      "execution_count": 51,
      "outputs": [
        {
          "output_type": "stream",
          "name": "stdout",
          "text": [
            "Train Score : \n",
            "\n",
            "0.9010303294151792\n",
            "*********************************\n",
            "ROC AUC score :  0.8885819683015802\n",
            "[[1627  215]\n",
            " [ 118  994]]\n",
            "              precision    recall  f1-score   support\n",
            "\n",
            "           0       0.93      0.88      0.91      1842\n",
            "           1       0.82      0.89      0.86      1112\n",
            "\n",
            "    accuracy                           0.89      2954\n",
            "   macro avg       0.88      0.89      0.88      2954\n",
            "weighted avg       0.89      0.89      0.89      2954\n",
            "\n"
          ]
        },
        {
          "output_type": "display_data",
          "data": {
            "text/plain": [
              "<Figure size 432x288 with 2 Axes>"
            ],
            "image/png": "[encoded data removed]"
          },
          "metadata": {
            "needs_background": "light"
          }
        }
      ]
    },
    {
      "cell_type": "markdown",
      "source": [
        "# 10.6 Naive Bayes"
      ],
      "metadata": {
        "id": "UUf0ZigqCaT-"
      }
    },
    {
      "cell_type": "code",
      "source": [
        "# Now Naive Bayes Algorithm\n",
        "\n",
        "from sklearn.naive_bayes import GaussianNB\n",
        "\n",
        "nb = GaussianNB()\n",
        "nb.fit(Xtrain, ytrain)\n",
        "y_pred = nb.predict(Xtest)\n",
        "\n",
        "precision_nb = precision_score(y_pred, ytest)\n",
        "recall_nb = recall_score(y_pred, ytest)\n",
        "accuracy_nb = accuracy_score(y_pred, ytest)\n",
        "f1score_nb = f1_score(y_pred, ytest)\n",
        "ROCAUC_nb = roc_auc_score(y_pred, ytest)\n",
        "\n",
        "print('Train Score : \\n')\n",
        "print(nb.score(Xtrain, ytrain))\n",
        "\n",
        "print('*********************************')\n",
        "\n",
        "print('ROC-AUC score : ', ROCAUC_nb)\n",
        "\n",
        "cm = confusion_matrix(y_pred, ytest)\n",
        "print(cm)\n",
        "sns.heatmap(cm, annot = True)\n",
        "\n",
        "print(classification_report(y_pred, ytest))"
      ],
      "metadata": {
        "colab": {
          "base_uri": "https://localhost:8080/",
          "height": 560
        },
        "id": "SxGSazjhB-Q_",
        "outputId": "7a32f146-69a0-4edb-d341-6ff1b1082205"
      },
      "execution_count": 43,
      "outputs": [
        {
          "output_type": "stream",
          "name": "stdout",
          "text": [
            "Train Score : \n",
            "\n",
            "0.8415324336090553\n",
            "*********************************\n",
            "ROC AUC score :  0.876972342820112\n",
            "[[1709  432]\n",
            " [  36  777]]\n",
            "              precision    recall  f1-score   support\n",
            "\n",
            "           0       0.98      0.80      0.88      2141\n",
            "           1       0.64      0.96      0.77       813\n",
            "\n",
            "    accuracy                           0.84      2954\n",
            "   macro avg       0.81      0.88      0.82      2954\n",
            "weighted avg       0.89      0.84      0.85      2954\n",
            "\n"
          ]
        },
        {
          "output_type": "display_data",
          "data": {
            "text/plain": [
              "<Figure size 432x288 with 2 Axes>"
            ],
            "image/png": "[encoded data removed]"
          },
          "metadata": {
            "needs_background": "light"
          }
        }
      ]
    },
    {
      "cell_type": "markdown",
      "source": [
        "# 10.7 XGBoost"
      ],
      "metadata": {
        "id": "1W10iINuCgpZ"
      }
    },
    {
      "cell_type": "code",
      "source": [
        "# Now XGBOOst classifier algorithm\n",
        "\n",
        "from xgboost import XGBClassifier\n",
        "\n",
        "xgb = XGBClassifier()\n",
        "xgb.fit(Xtrain, ytrain)\n",
        "y_pred = xgb.predict(Xtest)\n",
        "\n",
        "precision_xgb = precision_score(y_pred, ytest)\n",
        "recall_xgb = recall_score(y_pred, ytest)\n",
        "accuracy_xgb = accuracy_score(y_pred, ytest)\n",
        "f1score_xgb = f1_score(y_pred, ytest)\n",
        "ROCAUC_xgb = roc_auc_score(y_pred, ytest)\n",
        "\n",
        "print('Train Score : \\n')\n",
        "print(xgb.score(Xtrain, ytrain))\n",
        "\n",
        "print('*********************************')\n",
        "\n",
        "print('ROC-AUC score : ', ROCAUC_xgb)\n",
        "\n",
        "cm = confusion_matrix(y_pred, ytest)\n",
        "print(cm)\n",
        "sns.heatmap(cm, annot = True)\n",
        "\n",
        "print(classification_report(y_pred, ytest))"
      ],
      "metadata": {
        "colab": {
          "base_uri": "https://localhost:8080/",
          "height": 560
        },
        "id": "M-J_NIG4GZjY",
        "outputId": "9ac410b1-3401-4ca9-aadd-0da97c5047b4"
      },
      "execution_count": 44,
      "outputs": [
        {
          "output_type": "stream",
          "name": "stdout",
          "text": [
            "Train Score : \n",
            "\n",
            "0.921346684080685\n",
            "*********************************\n",
            "ROC AUC score :  0.9026848107345946\n",
            "[[1637  181]\n",
            " [ 108 1028]]\n",
            "              precision    recall  f1-score   support\n",
            "\n",
            "           0       0.94      0.90      0.92      1818\n",
            "           1       0.85      0.90      0.88      1136\n",
            "\n",
            "    accuracy                           0.90      2954\n",
            "   macro avg       0.89      0.90      0.90      2954\n",
            "weighted avg       0.90      0.90      0.90      2954\n",
            "\n"
          ]
        },
        {
          "output_type": "display_data",
          "data": {
            "text/plain": [
              "<Figure size 432x288 with 2 Axes>"
            ],
            "image/png": "[encoded data removed]"
          },
          "metadata": {
            "needs_background": "light"
          }
        }
      ]
    },
    {
      "cell_type": "markdown",
      "source": [
        "# 11. Feature Importance For Prediction"
      ],
      "metadata": {
        "id": "J3ubAjTJkyT7"
      }
    },
    {
      "cell_type": "code",
      "source": [
        "# Importing necessary library for feature importance\n",
        "from sklearn.metrics import roc_curve, roc_auc_score"
      ],
      "metadata": {
        "id": "DCf0EHYEk_A7"
      },
      "execution_count": 45,
      "outputs": []
    },
    {
      "cell_type": "markdown",
      "source": [
        "# 11.1 Probabilities of Prediction"
      ],
      "metadata": {
        "id": "n_dxZn-Lk8-d"
      }
    },
    {
      "cell_type": "code",
      "source": [
        "logreg_prob = logisticmodel.predict_proba(Xtest)\n",
        "rf_prob = randomforest.predict_proba(Xtest)\n",
        "knn_prob = knn.predict_proba(Xtest)\n",
        "dt_prob = decisiontree.predict_proba(Xtest)\n",
        "svm_prob = SVM.predict_proba(Xtest)\n",
        "nb_prob = nb.predict_proba(Xtest)\n",
        "xgb_prob = xgb.predict_proba(Xtest)"
      ],
      "metadata": {
        "id": "R7KN9uTqlqLN"
      },
      "execution_count": 52,
      "outputs": []
    },
    {
      "cell_type": "code",
      "source": [
        "logreg_prob = logreg_prob[:, 1]\n",
        "rf_prob = rf_prob[:, 1]\n",
        "knn_prob = knn_prob[:, 1]\n",
        "dt_prob = dt_prob[:, 1]\n",
        "svm_prob = svm_prob[:, 1]\n",
        "nb_prob = nb_prob[:, 1]\n",
        "xgb_prob = xgb_prob[:, 1]"
      ],
      "metadata": {
        "id": "paO4wjTFuEhx"
      },
      "execution_count": 53,
      "outputs": []
    },
    {
      "cell_type": "markdown",
      "source": [
        "# 11.2 Computation of ROC-AUC and ROC Curve Values\n",
        "\n",
        "ROC is the receiver operating characteristic AUROC is the area under the ROC curve."
      ],
      "metadata": {
        "id": "5XuHq3qw3f2E"
      }
    },
    {
      "cell_type": "code",
      "source": [
        "logreg_roc_auc = roc_auc_score(ytest, logreg_prob)\n",
        "rf_roc_auc = roc_auc_score(ytest, rf_prob)\n",
        "knn_roc_auc = roc_auc_score(ytest, knn_prob)\n",
        "dt_roc_auc = roc_auc_score(ytest, dt_prob)\n",
        "svm_roc_auc = roc_auc_score(ytest, svm_prob)\n",
        "nb_roc_auc = roc_auc_score(ytest, nb_prob)\n",
        "xgb_roc_auc = roc_auc_score(ytest, xgb_prob)"
      ],
      "metadata": {
        "id": "gi--C01R3awu"
      },
      "execution_count": 54,
      "outputs": []
    },
    {
      "cell_type": "code",
      "source": [
        "# Printing ROC-AUC scores\n",
        "print('ROC-AUC score of Logistic Regression is : %0.2f' %(logreg_roc_auc))\n",
        "print('ROC-AUC score of Random Forest is : %0.2f' %(rf_roc_auc))\n",
        "print('ROC-AUC score of k-Nearest Neighbors is : %0.2f' %(knn_roc_auc))\n",
        "print('ROC-AUC score of Decision Tree is : %0.2f' %(dt_roc_auc))\n",
        "print('ROC-AUC score of Support Vector Machine is : %0.2f' %(svm_roc_auc))\n",
        "print('ROC-AUC score of Naive Bayes is : %0.2f' %(nb_roc_auc))\n",
        "print('ROC-AUC score of XGBoost is : %0.2f' %(xgb_roc_auc))"
      ],
      "metadata": {
        "colab": {
          "base_uri": "https://localhost:8080/"
        },
        "id": "Fu65UuGX2Kc7",
        "outputId": "237b0205-3c7b-4d43-88fc-8b40b6ceba66"
      },
      "execution_count": 55,
      "outputs": [
        {
          "output_type": "stream",
          "name": "stdout",
          "text": [
            "ROC-AUC score of Logistic Regression is : 0.94\n",
            "ROC-AUC score of Random Forest is : 0.97\n",
            "ROC-AUC score of k-Nearest Neighbors is : 0.91\n",
            "ROC-AUC score of Decision Tree is : 0.86\n",
            "ROC-AUC score of Support Vector Machine is : 0.95\n",
            "ROC-AUC score of Naive Bayes is : 0.93\n",
            "ROC-AUC score of XGBoost is : 0.97\n"
          ]
        }
      ]
    },
    {
      "cell_type": "markdown",
      "source": [
        "# 12. Conclusion:\n",
        "\n"
      ],
      "metadata": {
        "id": "85SROaAQRnlf"
      }
    }
  ]
}